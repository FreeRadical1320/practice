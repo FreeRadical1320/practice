{
 "cells": [
  {
   "cell_type": "markdown",
   "metadata": {},
   "source": [
    "### Задача"
   ]
  },
  {
   "cell_type": "markdown",
   "metadata": {},
   "source": [
    "Write a function that builds a tree based on a list of tuples of id (parent id, offspring id),\n",
    "where None is the id of the root node.\n",
    "How this should work:\n",
    "\n",
    "Написать функцию, строящую дерево по списку пар id (id родителя, id потомка),\n",
    "где None - id корневого узла.\n",
    "Пример работы:"
   ]
  },
  {
   "cell_type": "code",
   "execution_count": 54,
   "metadata": {},
   "outputs": [],
   "source": [
    "source = [\n",
    "    (None, 'a'),\n",
    "    (None, 'b'),\n",
    "    (None, 'c'),\n",
    "    ('a', 'a1'),\n",
    "    ('a', 'a2'),\n",
    "    ('a2', 'a21'),\n",
    "    ('a2', 'a22'),\n",
    "    ('b', 'b1'),\n",
    "    ('b1', 'b11'),\n",
    "    ('b11', 'b111'),\n",
    "    ('b', 'b2'),\n",
    "    ('c', 'c1')\n",
    "]\n",
    "\n",
    "expected = {\n",
    "    'a': {'a1': {}, 'a2': {'a21': {}, 'a22': {}}},\n",
    "    'b': {'b1': {'b11': {'b111': {}}}, 'b2': {}},\n",
    "    'c': {'c1': {}}\n",
    "}"
   ]
  },
  {
   "cell_type": "markdown",
   "metadata": {},
   "source": [
    "### Решение"
   ]
  },
  {
   "cell_type": "code",
   "execution_count": 55,
   "metadata": {},
   "outputs": [
    {
     "name": "stdout",
     "output_type": "stream",
     "text": [
      "{'a': {'a1': {}, 'a2': {'a21': {}, 'a22': {}}}, 'b': {'b1': {'b11': {'b111': {}}}, 'b2': {}}, 'c': {'c1': {}}}\n"
     ]
    }
   ],
   "source": [
    "def add_new_item(node, key):\n",
    "    \"\"\"This function adds a new empty dictionary to the existed one\n",
    "\n",
    "    Args:\n",
    "        node (dictionary): main node\n",
    "        key (string): new key\n",
    "    \"\"\"\n",
    "    if key not in node.keys():\n",
    "        node.update({key: dict()})\n",
    "        \n",
    "        \n",
    "def find_parent(node, key):\n",
    "    \"\"\"This function find a key in a nested dictionary\n",
    "\n",
    "    Args:\n",
    "        node (dictionary): main вшсешщтфкн\n",
    "        key (string): keyword\n",
    "        \n",
    "    Returns:\n",
    "        offset: element of nested dictionary wich is found\n",
    "    \"\"\"\n",
    "    offset = node\n",
    "    if key in node.keys():\n",
    "        # Root level\n",
    "        offset = node[key]\n",
    "    else:\n",
    "        for key_1, value_1 in node.items():\n",
    "            if key in value_1.keys():\n",
    "                # Second nesting level\n",
    "                offset = node[key_1][key]  \n",
    "            else:\n",
    "                for key_2, value_2 in value_1.items():\n",
    "                    if key in value_2.keys():\n",
    "                        # Third nesting level\n",
    "                        offset = node[key_1][key_2][key]\n",
    "                    else:\n",
    "                        for key_3, value_3 in value_2.items():\n",
    "                            if key in value_3.keys():\n",
    "                                # Fourth nesting level\n",
    "                                offset = node[key_1][key_2][key_3][key]\n",
    "    \n",
    "    return offset    \n",
    "   \n",
    "        \n",
    "def to_tree(src):\n",
    "    \"\"\"This function builds a tree based on a list of tuples of id (parent id, offspring id),\n",
    "where None is the id of the root node.\n",
    "\n",
    "    Args:\n",
    "        src (list of tupels): like [(None, 'a'), ('a', 'a1'), ('a', 'a2')...    ('a2', 'a21'),]\n",
    "\n",
    "    Returns:\n",
    "        tree: dictionary of dictionaries that have a name of keys as ids from source list\n",
    "    \"\"\"\n",
    "    # Create empty dictionary\n",
    "    tree = dict()\n",
    "\n",
    "    for parent, offspring in src:\n",
    "        # Go along the list items\n",
    "        parent = find_parent(tree, parent)\n",
    "        add_new_item(parent, offspring)\n",
    "                \n",
    "    return tree\n",
    "\n",
    "tr = to_tree(source)\n",
    "print(tr)\n",
    "assert tr == expected\n"
   ]
  },
  {
   "cell_type": "markdown",
   "metadata": {},
   "source": [
    "### Недостатки: \n",
    "1. Хардкод\n",
    "2. Зависимость от порядка элементов входного списка\n",
    "3. Зависимость от количества уровней вложенности\n",
    "4. Громоздкий, нет элегантности\n",
    "\n",
    "### Преимущества: \n",
    "1. Без сторонних библиотек\n",
    "\n",
    "### Возможные пути решения:\n",
    "Если бы задача стояла сделать универсальный алгоритм, не зависящий от порядка подаваемых кортежей во входном списке и с неограниченной вложенностью, то скорее всего надо использовать рекурсии или может на основе специальных библиотек, которые скорее всего существуют, но я с ними не знаком пока."
   ]
  }
 ],
 "metadata": {
  "kernelspec": {
   "display_name": "Python 3.9.11 ('sf')",
   "language": "python",
   "name": "python3"
  },
  "language_info": {
   "codemirror_mode": {
    "name": "ipython",
    "version": 3
   },
   "file_extension": ".py",
   "mimetype": "text/x-python",
   "name": "python",
   "nbconvert_exporter": "python",
   "pygments_lexer": "ipython3",
   "version": "3.9.11"
  },
  "orig_nbformat": 4,
  "vscode": {
   "interpreter": {
    "hash": "529b7f63ca761d478d1bd774f0b581ad3b5625a5e231408b9454a82606df15ca"
   }
  }
 },
 "nbformat": 4,
 "nbformat_minor": 2
}
