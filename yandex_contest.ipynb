{
 "cells": [
  {
   "cell_type": "code",
   "execution_count": 1,
   "metadata": {},
   "outputs": [],
   "source": [
    "x = 'oneonezerozero'\n",
    "x1 = 'onezeroonezero'\n"
   ]
  },
  {
   "cell_type": "code",
   "execution_count": 4,
   "metadata": {},
   "outputs": [
    {
     "name": "stdout",
     "output_type": "stream",
     "text": [
      ">\n"
     ]
    }
   ],
   "source": [
    "first = input('Please, input first number')\n",
    "second = input('Please, input second number')\n",
    "\n",
    "def parse_string(input):\n",
    "    str_bin = ''\n",
    "    while(len(input)):\n",
    "        if input[:3] == 'one':\n",
    "            str_bin += '1'\n",
    "            input = input[3:]\n",
    "        elif input[:4] == 'zero':\n",
    "            str_bin += '0'\n",
    "            input =  input[4:]\n",
    "        \n",
    "    return int(str_bin, 2)\n",
    "\n",
    "def compare_digits(num1, num2):\n",
    "    if num1 > num2:\n",
    "        return '>'\n",
    "    elif num1 == num2:\n",
    "        return '='\n",
    "    elif num1 < num2:\n",
    "        return '<'\n",
    "\n",
    "print(compare_digits(parse_string(first), parse_string(second)))"
   ]
  },
  {
   "cell_type": "code",
   "execution_count": 6,
   "metadata": {},
   "outputs": [
    {
     "ename": "TypeError",
     "evalue": "expected str, bytes or os.PathLike object, not method",
     "output_type": "error",
     "traceback": [
      "\u001b[0;31m---------------------------------------------------------------------------\u001b[0m",
      "\u001b[0;31mTypeError\u001b[0m                                 Traceback (most recent call last)",
      "\u001b[1;32m/home/freeradical/Documents/SF ML Tools/IDE/github/practice/yandex_contest.ipynb Cell 3'\u001b[0m in \u001b[0;36m<cell line: 2>\u001b[0;34m()\u001b[0m\n\u001b[1;32m      <a href='vscode-notebook-cell:/home/freeradical/Documents/SF%20ML%20Tools/IDE/github/practice/yandex_contest.ipynb#ch0000002?line=0'>1</a>\u001b[0m polyShape\u001b[39m=\u001b[39m[]\n\u001b[0;32m----> <a href='vscode-notebook-cell:/home/freeradical/Documents/SF%20ML%20Tools/IDE/github/practice/yandex_contest.ipynb#ch0000002?line=1'>2</a>\u001b[0m infile \u001b[39m=\u001b[39m \u001b[39mopen\u001b[39;49m(\u001b[39minput\u001b[39;49m,\u001b[39m\"\u001b[39;49m\u001b[39mr\u001b[39;49m\u001b[39m\"\u001b[39;49m)\n\u001b[1;32m      <a href='vscode-notebook-cell:/home/freeradical/Documents/SF%20ML%20Tools/IDE/github/practice/yandex_contest.ipynb#ch0000002?line=2'>3</a>\u001b[0m num \u001b[39m=\u001b[39m infile\u001b[39m.\u001b[39mreadline(\u001b[39m2\u001b[39m)\n\u001b[1;32m      <a href='vscode-notebook-cell:/home/freeradical/Documents/SF%20ML%20Tools/IDE/github/practice/yandex_contest.ipynb#ch0000002?line=3'>4</a>\u001b[0m \u001b[39mwhile\u001b[39;00m num \u001b[39m!=\u001b[39m \u001b[39m\"\u001b[39m\u001b[39m\"\u001b[39m:\n",
      "\u001b[0;31mTypeError\u001b[0m: expected str, bytes or os.PathLike object, not method"
     ]
    }
   ],
   "source": [
    "polyShape=[]\n",
    "infile = open(input,\"r\")\n",
    "num = infile.readline(2)\n",
    "while num != \"\":\n",
    "    polyShape.append(num)\n",
    "    num = int(infile.readline(2))\n",
    "infile.close()\n"
   ]
  },
  {
   "cell_type": "code",
   "execution_count": 14,
   "metadata": {},
   "outputs": [],
   "source": [
    "class Solution:\n",
    "    def minMoves(self, target: int, maxDoubles: int) -> int:\n",
    "        steps = 0\n",
    "        while target != 1:\n",
    "            if maxDoubles:\n",
    "                if target//2 and not target%2:\n",
    "                    target = target//2\n",
    "                    maxDoubles -= 1\n",
    "                elif target//2 and target%2:\n",
    "                    target -= 1\n",
    "                steps += 1\n",
    "            else:\n",
    "                steps += target - 1\n",
    "                target = 1\n",
    "        return steps\n",
    "        "
   ]
  },
  {
   "cell_type": "code",
   "execution_count": null,
   "metadata": {},
   "outputs": [],
   "source": [
    "cls = Solution()\n",
    "cls.minMoves(656101987, 1)"
   ]
  },
  {
   "cell_type": "code",
   "execution_count": null,
   "metadata": {},
   "outputs": [],
   "source": [
    "class Solution:\n",
    "    def numSteps(self, s: str) -> int:\n",
    "        num = int(s, 2)\n",
    "        steps = 0\n",
    "        while num != 1:\n",
    "            if not num%2:\n",
    "                num = num//2\n",
    "            else:\n",
    "                num += 1\n",
    "            steps += 1\n",
    "        return steps"
   ]
  },
  {
   "cell_type": "code",
   "execution_count": 46,
   "metadata": {},
   "outputs": [],
   "source": [
    "class Solution:\n",
    "    def numSteps(self, s: str) -> int:\n",
    "        s = '0b' + s\n",
    "        print(s)\n",
    "        steps = 0\n",
    "        while s != '0b1':\n",
    "            if s[-1:] == '1':\n",
    "                print(s[-1:])\n",
    "                s = bin(int(s, 2) + 1)\n",
    "                steps += 1\n",
    "              \n",
    "                print(steps, s)\n",
    "            elif s[-1:] == '0':\n",
    "                print(s[-1:])\n",
    "                s = bin(int(s, 2) >> 1)\n",
    "                steps += 1\n",
    "                print(steps, s)\n",
    "        return steps"
   ]
  },
  {
   "cell_type": "code",
   "execution_count": null,
   "metadata": {},
   "outputs": [],
   "source": [
    "cls = Solution()\n",
    "cls.numSteps('1110')"
   ]
  },
  {
   "cell_type": "code",
   "execution_count": null,
   "metadata": {},
   "outputs": [],
   "source": [
    "class Solution:\n",
    "    def longestWord(self, words: List[str]) -> str:\n",
    "        lng_word = ''\n",
    "        for word in words:\n",
    "            for sample in words:\n",
    "                if sample in word:\n",
    "                    if len(word) == len(sample) + 1:\n",
    "                        if len(word) > len(lng_word):\n",
    "                            lng_word = word\n",
    "                        elif len(word) == len(lng_word):\n",
    "                            if word < lng_word:\n",
    "                                lng_word = word\n",
    "        return lng_word"
   ]
  },
  {
   "cell_type": "code",
   "execution_count": 53,
   "metadata": {},
   "outputs": [
    {
     "name": "stdout",
     "output_type": "stream",
     "text": [
      "s\n"
     ]
    }
   ],
   "source": [
    "s = 'jdlkfjehsssssrvvlksdkf;kljssssdklfjdhflirooro4i9t78ycejdeihdu83d4fhljdheflergthewd'\n",
    "print(max(map(lambda x: (s.count(x), x), s))[1])"
   ]
  },
  {
   "cell_type": "code",
   "execution_count": null,
   "metadata": {},
   "outputs": [],
   "source": [
    "class Solution:\n",
    "    def longestWord(self, words: List[str]) -> str:\n",
    "        lng_word = ''\n",
    "        words.sort(key=len)\n",
    "        for word in words:\n",
    "            for sample in words:\n",
    "                if sample in word:\n",
    "                    if len(word) == len(sample) + 1:\n",
    "                        if len(word) > len(lng_word):\n",
    "                            lng_word = word\n",
    "                        elif len(word) == len(lng_word):\n",
    "                            if word < lng_word:\n",
    "                                lng_word = word\n",
    "        return lng_word\n",
    "                    "
   ]
  },
  {
   "cell_type": "code",
   "execution_count": 24,
   "metadata": {},
   "outputs": [],
   "source": [
    "class Solution:\n",
    "    def longestWord(self, words) -> str:\n",
    "        words.sort()\n",
    "        words.sort(key=len)\n",
    "        print(words)\n",
    "        leaders = list()\n",
    "        for idx, word in enumerate(words):\n",
    "            if len(word) == 1:\n",
    "                leaders.append(word)\n",
    "        lead_tpl = tuple(leaders)\n",
    "        print(lead_tpl)\n",
    "        for idx, sample in enumerate(lead_tpl):\n",
    "            tmp_samp = sample\n",
    "            for word in words:\n",
    "                if tmp_samp in word:\n",
    "                    if len(word) == len(tmp_samp) + 1:\n",
    "                        tmp_samp = word\n",
    "                        print(tmp_samp)\n",
    "            leaders[idx] = tmp_samp\n",
    "            print(leaders)\n",
    "        lng_word = ''\n",
    "        max_len = 0\n",
    "        for elem in leaders:\n",
    "            if len(elem) > max_len:\n",
    "                lng_word = elem\n",
    "                max_len = len(elem)\n",
    "            elif len(elem) == max_len:\n",
    "                if elem < lng_word:\n",
    "                    lng_word = elem\n",
    "                    \n",
    "        return lng_word"
   ]
  },
  {
   "cell_type": "code",
   "execution_count": 25,
   "metadata": {},
   "outputs": [
    {
     "name": "stdout",
     "output_type": "stream",
     "text": [
      "['o', 'r', 'on', 'ot', 'ra', 'rs', 'rs', 'oti', 'rac', 'rsf', 'onpd', 'otif', 'racy', 'onpdu']\n",
      "('o', 'r')\n",
      "on\n",
      "['on', 'r']\n",
      "ra\n",
      "rac\n",
      "racy\n",
      "['on', 'racy']\n"
     ]
    },
    {
     "data": {
      "text/plain": [
       "'racy'"
      ]
     },
     "execution_count": 25,
     "metadata": {},
     "output_type": "execute_result"
    }
   ],
   "source": [
    "x = [\"rac\",\"rs\",\"ra\",\"on\",\"r\",\"otif\",\"o\",\"onpdu\",\"rsf\",\"rs\",\"ot\",\"oti\",\"racy\",\"onpd\"]\n",
    "cls = Solution()\n",
    "cls.longestWord(x)"
   ]
  },
  {
   "cell_type": "code",
   "execution_count": null,
   "metadata": {},
   "outputs": [],
   "source": [
    "x = [\"yo\",\"ew\",\"fc\",\"zrc\",\"yodn\",\"fcm\",\"qm\",\"qmo\",\"fcmz\",\"z\",\"ewq\",\"yod\",\"ewqz\",\"y\"]\n",
    "print(x)\n",
    "x.remove('x', 'y')\n",
    "print(x)"
   ]
  },
  {
   "cell_type": "code",
   "execution_count": 13,
   "metadata": {},
   "outputs": [],
   "source": [
    "from collections import deque\n",
    "import string"
   ]
  },
  {
   "cell_type": "code",
   "execution_count": 14,
   "metadata": {},
   "outputs": [],
   "source": [
    "class Solution:\n",
    "    def longestWord(self, words) -> str:\n",
    "        wordSet = set(words)\n",
    "        q = deque([\"\"])\n",
    "        ans = \"\"\n",
    "        while q:\n",
    "            word = q.popleft()\n",
    "            if len(word) > len(ans):\n",
    "                ans = word\n",
    "                \n",
    "            for c in string.ascii_lowercase:\n",
    "                newWord = word + c\n",
    "                if newWord in wordSet:\n",
    "                    q.append(newWord)\n",
    "                    wordSet.remove(newWord)\n",
    "                    \n",
    "        return ans"
   ]
  },
  {
   "cell_type": "code",
   "execution_count": 15,
   "metadata": {},
   "outputs": [
    {
     "data": {
      "text/plain": [
       "'apple'"
      ]
     },
     "execution_count": 15,
     "metadata": {},
     "output_type": "execute_result"
    }
   ],
   "source": [
    "x = [\"a\",\"banana\",\"app\",\"appl\",\"ap\",\"apply\",\"apple\"]\n",
    "cls = Solution()\n",
    "cls.longestWord(x)"
   ]
  },
  {
   "cell_type": "code",
   "execution_count": 36,
   "metadata": {},
   "outputs": [],
   "source": [
    "class Solution:\n",
    "    def longestWord(self, words) -> str:\n",
    "        words.sort()\n",
    "        print(words)\n",
    "        seen = set([\"\"])\n",
    "        ans = \"\"\n",
    "        for word in words:\n",
    "            if word[:-1] in seen:\n",
    "                seen.add(word)\n",
    "                if len(word) > len(ans):\n",
    "                    ans = word\n",
    "        return ans"
   ]
  },
  {
   "cell_type": "code",
   "execution_count": 37,
   "metadata": {},
   "outputs": [
    {
     "name": "stdout",
     "output_type": "stream",
     "text": [
      "['a', 'ap', 'app', 'appl', 'apple', 'apply', 'banana']\n",
      "{''}\n",
      "{'', 'a'}\n",
      "ans =  a\n",
      "{'', 'a', 'ap'}\n",
      "ans =  ap\n",
      "{'', 'a', 'ap', 'app'}\n",
      "ans =  app\n",
      "{'', 'a', 'ap', 'appl', 'app'}\n",
      "ans =  appl\n",
      "{'', 'a', 'ap', 'appl', 'app', 'apple'}\n",
      "ans =  apple\n",
      "{'', 'a', 'apply', 'ap', 'appl', 'app', 'apple'}\n"
     ]
    },
    {
     "data": {
      "text/plain": [
       "'apple'"
      ]
     },
     "execution_count": 37,
     "metadata": {},
     "output_type": "execute_result"
    }
   ],
   "source": [
    "x = [\"a\",\"banana\",\"app\",\"appl\",\"ap\",\"apply\",\"apple\"]\n",
    "cls = Solution()\n",
    "cls.longestWord(x)"
   ]
  }
 ],
 "metadata": {
  "kernelspec": {
   "display_name": "Python 3.9.11 ('sf')",
   "language": "python",
   "name": "python3"
  },
  "language_info": {
   "codemirror_mode": {
    "name": "ipython",
    "version": 3
   },
   "file_extension": ".py",
   "mimetype": "text/x-python",
   "name": "python",
   "nbconvert_exporter": "python",
   "pygments_lexer": "ipython3",
   "version": "3.9.11"
  },
  "orig_nbformat": 4,
  "vscode": {
   "interpreter": {
    "hash": "529b7f63ca761d478d1bd774f0b581ad3b5625a5e231408b9454a82606df15ca"
   }
  }
 },
 "nbformat": 4,
 "nbformat_minor": 2
}
