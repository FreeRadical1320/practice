{
 "cells": [
  {
   "cell_type": "markdown",
   "metadata": {},
   "source": [
    "### Задача 3\n",
    "Два друга и собака"
   ]
  },
  {
   "cell_type": "code",
   "execution_count": 1,
   "metadata": {},
   "outputs": [],
   "source": [
    "count = 0\n",
    "distance = 10000\n",
    "first_friend_speed = 1\n",
    "second_friend_speed = 2\n",
    "dog_speed = 5\n",
    "friend = 2"
   ]
  },
  {
   "cell_type": "code",
   "execution_count": 5,
   "metadata": {},
   "outputs": [
    {
     "name": "stdout",
     "output_type": "stream",
     "text": [
      "Собака пробежит: 12 раз.\n"
     ]
    }
   ],
   "source": [
    "while distance > 10:\n",
    "    if friend == 1:\n",
    "        time = distance / (first_friend_speed + dog_speed)\n",
    "        friend = 2\n",
    "    elif friend == 2:\n",
    "        time = distance / (second_friend_speed + dog_speed)\n",
    "        friend = 1\n",
    "    distance -= (first_friend_speed + second_friend_speed) * time\n",
    "    count += 1\n",
    "print(f'Собака пробежит: {count} раз.')"
   ]
  }
 ],
 "metadata": {
  "kernelspec": {
   "display_name": "Python 3.9.11 ('sf')",
   "language": "python",
   "name": "python3"
  },
  "language_info": {
   "codemirror_mode": {
    "name": "ipython",
    "version": 3
   },
   "file_extension": ".py",
   "mimetype": "text/x-python",
   "name": "python",
   "nbconvert_exporter": "python",
   "pygments_lexer": "ipython3",
   "version": "3.9.11"
  },
  "orig_nbformat": 4,
  "vscode": {
   "interpreter": {
    "hash": "529b7f63ca761d478d1bd774f0b581ad3b5625a5e231408b9454a82606df15ca"
   }
  }
 },
 "nbformat": 4,
 "nbformat_minor": 2
}
