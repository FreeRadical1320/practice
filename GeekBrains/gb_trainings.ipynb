{
 "cells": [
  {
   "cell_type": "markdown",
   "metadata": {},
   "source": [
    "### Задача 2. Лабиринт\n",
    "Задача: Найти выход из лабиринта.\n",
    "Одно из правил выхода из любого подобного\n",
    "лабиринта:\n",
    "Правило левой руки — подходим\n",
    "ко входу к лабиринту, касаемся левой\n",
    "рукой стены.\n",
    "Далее идём вперед вдоль стены,\n",
    "на поворотах продолжаем касаться\n",
    "стен левой рукой.\n",
    "Такое решение работает всегда, если\n",
    "лабиринт построен правильно и из него\n",
    "есть выход."
   ]
  },
  {
   "cell_type": "code",
   "execution_count": null,
   "metadata": {},
   "outputs": [],
   "source": [
    "while end == 0:\n",
    "    if left_hand == 1:"
   ]
  },
  {
   "cell_type": "markdown",
   "metadata": {},
   "source": [
    "### Задача 3\n",
    "Два друга и собака"
   ]
  },
  {
   "cell_type": "code",
   "execution_count": 1,
   "metadata": {},
   "outputs": [],
   "source": [
    "count = 0\n",
    "distance = 10000\n",
    "first_friend_speed = 1\n",
    "second_friend_speed = 2\n",
    "dog_speed = 5\n",
    "friend = 2"
   ]
  },
  {
   "cell_type": "code",
   "execution_count": 5,
   "metadata": {},
   "outputs": [
    {
     "name": "stdout",
     "output_type": "stream",
     "text": [
      "Собака пробежит: 12 раз.\n"
     ]
    }
   ],
   "source": [
    "while distance > 10:\n",
    "    if friend == 1:\n",
    "        time = distance / (first_friend_speed + dog_speed)\n",
    "        friend = 2\n",
    "    elif friend == 2:\n",
    "        time = distance / (second_friend_speed + dog_speed)\n",
    "        friend = 1\n",
    "    distance -= (first_friend_speed + second_friend_speed) * time\n",
    "    count += 1\n",
    "print(f'Собака пробежит: {count} раз.')"
   ]
  },
  {
   "cell_type": "code",
   "execution_count": 9,
   "metadata": {},
   "outputs": [
    {
     "ename": "TypeError",
     "evalue": "'<' not supported between instances of 'complex' and 'int'",
     "output_type": "error",
     "traceback": [
      "\u001b[0;31m---------------------------------------------------------------------------\u001b[0m",
      "\u001b[0;31mTypeError\u001b[0m                                 Traceback (most recent call last)",
      "\u001b[1;32m/home/freeradical/Documents/SF ML Tools/IDE/github/practice/GeekBrains/gb_trainings.ipynb Cell 4\u001b[0m in \u001b[0;36m<cell line: 2>\u001b[0;34m()\u001b[0m\n\u001b[1;32m      <a href='vscode-notebook-cell:/home/freeradical/Documents/SF%20ML%20Tools/IDE/github/practice/GeekBrains/gb_trainings.ipynb#W3sZmlsZQ%3D%3D?line=0'>1</a>\u001b[0m y \u001b[39m=\u001b[39m [\u001b[39m2\u001b[39m, \u001b[39m5\u001b[39mJ, \u001b[39m6\u001b[39m]\n\u001b[0;32m----> <a href='vscode-notebook-cell:/home/freeradical/Documents/SF%20ML%20Tools/IDE/github/practice/GeekBrains/gb_trainings.ipynb#W3sZmlsZQ%3D%3D?line=1'>2</a>\u001b[0m y\u001b[39m.\u001b[39;49msort()\n\u001b[1;32m      <a href='vscode-notebook-cell:/home/freeradical/Documents/SF%20ML%20Tools/IDE/github/practice/GeekBrains/gb_trainings.ipynb#W3sZmlsZQ%3D%3D?line=2'>3</a>\u001b[0m \u001b[39mprint\u001b[39m(y)\n",
      "\u001b[0;31mTypeError\u001b[0m: '<' not supported between instances of 'complex' and 'int'"
     ]
    }
   ],
   "source": [
    "y = [2, 5J, 6]\n",
    "y.sort()\n",
    "print(y)"
   ]
  }
 ],
 "metadata": {
  "kernelspec": {
   "display_name": "Python 3.9.11 ('sf')",
   "language": "python",
   "name": "python3"
  },
  "language_info": {
   "codemirror_mode": {
    "name": "ipython",
    "version": 3
   },
   "file_extension": ".py",
   "mimetype": "text/x-python",
   "name": "python",
   "nbconvert_exporter": "python",
   "pygments_lexer": "ipython3",
   "version": "3.9.11"
  },
  "orig_nbformat": 4,
  "vscode": {
   "interpreter": {
    "hash": "529b7f63ca761d478d1bd774f0b581ad3b5625a5e231408b9454a82606df15ca"
   }
  }
 },
 "nbformat": 4,
 "nbformat_minor": 2
}
