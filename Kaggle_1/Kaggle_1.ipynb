{
 "cells": [
  {
   "cell_type": "code",
   "execution_count": 2,
   "id": "81a20841",
   "metadata": {
    "_cell_guid": "b1076dfc-b9ad-4769-8c92-a6c4dae69d19",
    "_uuid": "8f2839f25d086af736a60e9eeb907d3b93b6e0e5",
    "execution": {
     "iopub.execute_input": "2022-02-08T19:14:22.339329Z",
     "iopub.status.busy": "2022-02-08T19:14:22.338238Z",
     "iopub.status.idle": "2022-02-08T19:14:23.673423Z",
     "shell.execute_reply": "2022-02-08T19:14:23.673936Z",
     "shell.execute_reply.started": "2022-02-08T18:44:26.624161Z"
    },
    "papermill": {
     "duration": 1.363434,
     "end_time": "2022-02-08T19:14:23.674225",
     "exception": false,
     "start_time": "2022-02-08T19:14:22.310791",
     "status": "completed"
    },
    "tags": []
   },
   "outputs": [],
   "source": [
    "# This Python 3 environment comes with many helpful analytics libraries installed\n",
    "# It is defined by the kaggle/python Docker image: https://github.com/kaggle/docker-python\n",
    "# For example, here's several helpful packages to load\n",
    "\n",
    "import numpy as np # linear algebra\n",
    "import pandas as pd # data processing, CSV file I/O (e.g. pd.read_csv)\n",
    "from datetime import date\n",
    "\n",
    "# импортируем библиотеки для визуализации\n",
    "import matplotlib.pyplot as plt\n",
    "import seaborn as sns \n",
    "%matplotlib inline\n",
    "\n",
    "import nltk\n",
    "from nltk.sentiment.vader import SentimentIntensityAnalyzer\n",
    "import time\n",
    "\n",
    "import category_encoders as ce\n",
    "\n",
    "# для нормализации, стандартизации\n",
    "from sklearn import preprocessing\n",
    "\n",
    "# Загружаем специальный удобный инструмент для разделения датасета:\n",
    "from sklearn.model_selection import train_test_split\n",
    "\n",
    "# Импортируем необходимые библиотеки:\n",
    "from sklearn.ensemble import RandomForestRegressor # инструмент для создания и обучения модели\n",
    "from sklearn import metrics # инструменты для оценки точности модели\n",
    "\n",
    "# Input data files are available in the read-only \"../input/\" directory\n",
    "# For example, running this (by clicking run or pressing Shift+Enter) will list all files under the input directory\n",
    "\n",
    "import os\n",
    "for dirname, _, filenames in os.walk('/kaggle/input'):\n",
    "    for filename in filenames:\n",
    "        print(os.path.join(dirname, filename))\n",
    "\n",
    "# You can write up to 20GB to the current directory (/kaggle/working/) that gets preserved as output when you create a version using \"Save & Run All\" \n",
    "# You can also write temporary files to /kaggle/temp/, but they won't be saved outside of the current session"
   ]
  },
  {
   "cell_type": "code",
   "execution_count": 3,
   "id": "8bd9892a",
   "metadata": {
    "execution": {
     "iopub.execute_input": "2022-02-08T19:14:23.722495Z",
     "iopub.status.busy": "2022-02-08T19:14:23.721381Z",
     "iopub.status.idle": "2022-02-08T19:14:23.725121Z",
     "shell.execute_reply": "2022-02-08T19:14:23.725576Z",
     "shell.execute_reply.started": "2022-02-08T18:44:26.641433Z"
    },
    "papermill": {
     "duration": 0.028937,
     "end_time": "2022-02-08T19:14:23.725766",
     "exception": false,
     "start_time": "2022-02-08T19:14:23.696829",
     "status": "completed"
    },
    "tags": []
   },
   "outputs": [],
   "source": [
    "# всегда фиксируйте RANDOM_SEED, чтобы ваши эксперименты были воспроизводимы!\n",
    "RANDOM_SEED = 42"
   ]
  },
  {
   "cell_type": "code",
   "execution_count": 4,
   "id": "814dbb0b",
   "metadata": {
    "execution": {
     "iopub.execute_input": "2022-02-08T19:14:23.771180Z",
     "iopub.status.busy": "2022-02-08T19:14:23.770572Z",
     "iopub.status.idle": "2022-02-08T19:14:28.207550Z",
     "shell.execute_reply": "2022-02-08T19:14:28.206673Z",
     "shell.execute_reply.started": "2022-02-08T18:44:26.648843Z"
    },
    "papermill": {
     "duration": 4.460662,
     "end_time": "2022-02-08T19:14:28.207868",
     "exception": false,
     "start_time": "2022-02-08T19:14:23.747206",
     "status": "completed"
    },
    "tags": []
   },
   "outputs": [],
   "source": [
    "# зафиксируем версию пакетов, чтобы эксперименты были воспроизводимы:\n",
    "# !pip freeze > requirements.txt"
   ]
  },
  {
   "cell_type": "code",
   "execution_count": 5,
   "id": "2586b1ef",
   "metadata": {
    "execution": {
     "iopub.execute_input": "2022-02-08T19:14:28.262028Z",
     "iopub.status.busy": "2022-02-08T19:14:28.261082Z",
     "iopub.status.idle": "2022-02-08T19:14:33.762274Z",
     "shell.execute_reply": "2022-02-08T19:14:33.761547Z",
     "shell.execute_reply.started": "2022-02-08T18:44:29.657645Z"
    },
    "papermill": {
     "duration": 5.530208,
     "end_time": "2022-02-08T19:14:33.762433",
     "exception": false,
     "start_time": "2022-02-08T19:14:28.232225",
     "status": "completed"
    },
    "tags": []
   },
   "outputs": [],
   "source": [
    "# Подгрузим наши данные из соревнования\n",
    "\n",
    "DATA_DIR = '../../'\n",
    "df_train = pd.read_csv(DATA_DIR+'/hotels_train.csv') # датасет для обучения\n",
    "df_test = pd.read_csv(DATA_DIR+'/hotels_test.csv') # датасет для предсказания\n",
    "sample_submission = pd.read_csv(DATA_DIR+'/submission.csv') # самбмишн"
   ]
  },
  {
   "cell_type": "code",
   "execution_count": 6,
   "id": "f00eb590",
   "metadata": {
    "execution": {
     "iopub.execute_input": "2022-02-08T19:14:34.372564Z",
     "iopub.status.busy": "2022-02-08T19:14:34.371990Z",
     "iopub.status.idle": "2022-02-08T19:14:34.382350Z",
     "shell.execute_reply": "2022-02-08T19:14:34.382803Z",
     "shell.execute_reply.started": "2022-02-08T18:44:33.464464Z"
    },
    "papermill": {
     "duration": 0.036517,
     "end_time": "2022-02-08T19:14:34.382984",
     "exception": false,
     "start_time": "2022-02-08T19:14:34.346467",
     "status": "completed"
    },
    "tags": []
   },
   "outputs": [],
   "source": [
    "# sample_submission.info()"
   ]
  },
  {
   "cell_type": "code",
   "execution_count": 7,
   "id": "9f2e290f",
   "metadata": {},
   "outputs": [
    {
     "name": "stdout",
     "output_type": "stream",
     "text": [
      "386803\n",
      "386496\n"
     ]
    }
   ],
   "source": [
    "df_train_ = df_train.drop_duplicates()\n",
    "print(df_train.shape[0])\n",
    "print(df_train_.shape[0])"
   ]
  },
  {
   "cell_type": "code",
   "execution_count": 8,
   "id": "82718822",
   "metadata": {
    "execution": {
     "iopub.execute_input": "2022-02-08T19:14:34.432723Z",
     "iopub.status.busy": "2022-02-08T19:14:34.432113Z",
     "iopub.status.idle": "2022-02-08T19:14:34.920690Z",
     "shell.execute_reply": "2022-02-08T19:14:34.920082Z",
     "shell.execute_reply.started": "2022-02-08T18:44:33.480147Z"
    },
    "papermill": {
     "duration": 0.514636,
     "end_time": "2022-02-08T19:14:34.920844",
     "exception": false,
     "start_time": "2022-02-08T19:14:34.406208",
     "status": "completed"
    },
    "tags": []
   },
   "outputs": [],
   "source": [
    "# ВАЖНО! дря корректной обработки признаков объединяем трейн и тест в один датасет\n",
    "df_train['sample'] = 1 # помечаем где у нас трейн\n",
    "df_test['sample'] = 0 # помечаем где у нас тест\n",
    "df_test['reviewer_score'] = 0 # в тесте у нас нет значения reviewer_score, мы его должны предсказать, по этому пока просто заполняем нулями\n",
    "\n",
    "data = df_test.append(df_train, sort=False).reset_index(drop=True) # объединяем"
   ]
  },
  {
   "cell_type": "code",
   "execution_count": 9,
   "id": "88c11046",
   "metadata": {},
   "outputs": [
    {
     "data": {
      "text/html": [
       "<div>\n",
       "<style scoped>\n",
       "    .dataframe tbody tr th:only-of-type {\n",
       "        vertical-align: middle;\n",
       "    }\n",
       "\n",
       "    .dataframe tbody tr th {\n",
       "        vertical-align: top;\n",
       "    }\n",
       "\n",
       "    .dataframe thead th {\n",
       "        text-align: right;\n",
       "    }\n",
       "</style>\n",
       "<table border=\"1\" class=\"dataframe\">\n",
       "  <thead>\n",
       "    <tr style=\"text-align: right;\">\n",
       "      <th></th>\n",
       "      <th>hotel_address</th>\n",
       "      <th>additional_number_of_scoring</th>\n",
       "      <th>review_date</th>\n",
       "      <th>average_score</th>\n",
       "      <th>hotel_name</th>\n",
       "      <th>reviewer_nationality</th>\n",
       "      <th>negative_review</th>\n",
       "      <th>review_total_negative_word_counts</th>\n",
       "      <th>total_number_of_reviews</th>\n",
       "      <th>positive_review</th>\n",
       "      <th>review_total_positive_word_counts</th>\n",
       "      <th>total_number_of_reviews_reviewer_has_given</th>\n",
       "      <th>tags</th>\n",
       "      <th>days_since_review</th>\n",
       "      <th>lat</th>\n",
       "      <th>lng</th>\n",
       "      <th>sample</th>\n",
       "      <th>reviewer_score</th>\n",
       "    </tr>\n",
       "  </thead>\n",
       "  <tbody>\n",
       "    <tr>\n",
       "      <th>0</th>\n",
       "      <td>Via Senigallia 6 20161 Milan Italy</td>\n",
       "      <td>904</td>\n",
       "      <td>7/21/2017</td>\n",
       "      <td>8.1</td>\n",
       "      <td>Hotel Da Vinci</td>\n",
       "      <td>United Kingdom</td>\n",
       "      <td>Would have appreciated a shop in the hotel th...</td>\n",
       "      <td>52</td>\n",
       "      <td>16670</td>\n",
       "      <td>Hotel was great clean friendly staff free bre...</td>\n",
       "      <td>62</td>\n",
       "      <td>1</td>\n",
       "      <td>[' Leisure trip ', ' Couple ', ' Double Room '...</td>\n",
       "      <td>13 days</td>\n",
       "      <td>45.533137</td>\n",
       "      <td>9.171102</td>\n",
       "      <td>0</td>\n",
       "      <td>0.0</td>\n",
       "    </tr>\n",
       "    <tr>\n",
       "      <th>1</th>\n",
       "      <td>Arlandaweg 10 Westpoort 1043 EW Amsterdam Neth...</td>\n",
       "      <td>612</td>\n",
       "      <td>12/12/2016</td>\n",
       "      <td>8.6</td>\n",
       "      <td>Urban Lodge Hotel</td>\n",
       "      <td>Belgium</td>\n",
       "      <td>No tissue paper box was present at the room</td>\n",
       "      <td>10</td>\n",
       "      <td>5018</td>\n",
       "      <td>No Positive</td>\n",
       "      <td>0</td>\n",
       "      <td>7</td>\n",
       "      <td>[' Leisure trip ', ' Group ', ' Triple Room ',...</td>\n",
       "      <td>234 day</td>\n",
       "      <td>52.385649</td>\n",
       "      <td>4.834443</td>\n",
       "      <td>0</td>\n",
       "      <td>0.0</td>\n",
       "    </tr>\n",
       "    <tr>\n",
       "      <th>2</th>\n",
       "      <td>Mallorca 251 Eixample 08008 Barcelona Spain</td>\n",
       "      <td>46</td>\n",
       "      <td>11/26/2015</td>\n",
       "      <td>8.3</td>\n",
       "      <td>Alexandra Barcelona A DoubleTree by Hilton</td>\n",
       "      <td>Sweden</td>\n",
       "      <td>Pillows</td>\n",
       "      <td>3</td>\n",
       "      <td>351</td>\n",
       "      <td>Nice welcoming and service</td>\n",
       "      <td>5</td>\n",
       "      <td>15</td>\n",
       "      <td>[' Business trip ', ' Solo traveler ', ' Twin ...</td>\n",
       "      <td>616 day</td>\n",
       "      <td>41.393192</td>\n",
       "      <td>2.161520</td>\n",
       "      <td>0</td>\n",
       "      <td>0.0</td>\n",
       "    </tr>\n",
       "  </tbody>\n",
       "</table>\n",
       "</div>"
      ],
      "text/plain": [
       "                                       hotel_address  \\\n",
       "0                 Via Senigallia 6 20161 Milan Italy   \n",
       "1  Arlandaweg 10 Westpoort 1043 EW Amsterdam Neth...   \n",
       "2        Mallorca 251 Eixample 08008 Barcelona Spain   \n",
       "\n",
       "   additional_number_of_scoring review_date  average_score  \\\n",
       "0                           904   7/21/2017            8.1   \n",
       "1                           612  12/12/2016            8.6   \n",
       "2                            46  11/26/2015            8.3   \n",
       "\n",
       "                                   hotel_name reviewer_nationality  \\\n",
       "0                              Hotel Da Vinci      United Kingdom    \n",
       "1                           Urban Lodge Hotel             Belgium    \n",
       "2  Alexandra Barcelona A DoubleTree by Hilton              Sweden    \n",
       "\n",
       "                                     negative_review  \\\n",
       "0   Would have appreciated a shop in the hotel th...   \n",
       "1        No tissue paper box was present at the room   \n",
       "2                                           Pillows    \n",
       "\n",
       "   review_total_negative_word_counts  total_number_of_reviews  \\\n",
       "0                                 52                    16670   \n",
       "1                                 10                     5018   \n",
       "2                                  3                      351   \n",
       "\n",
       "                                     positive_review  \\\n",
       "0   Hotel was great clean friendly staff free bre...   \n",
       "1                                        No Positive   \n",
       "2                         Nice welcoming and service   \n",
       "\n",
       "   review_total_positive_word_counts  \\\n",
       "0                                 62   \n",
       "1                                  0   \n",
       "2                                  5   \n",
       "\n",
       "   total_number_of_reviews_reviewer_has_given  \\\n",
       "0                                           1   \n",
       "1                                           7   \n",
       "2                                          15   \n",
       "\n",
       "                                                tags days_since_review  \\\n",
       "0  [' Leisure trip ', ' Couple ', ' Double Room '...           13 days   \n",
       "1  [' Leisure trip ', ' Group ', ' Triple Room ',...           234 day   \n",
       "2  [' Business trip ', ' Solo traveler ', ' Twin ...           616 day   \n",
       "\n",
       "         lat       lng  sample  reviewer_score  \n",
       "0  45.533137  9.171102       0             0.0  \n",
       "1  52.385649  4.834443       0             0.0  \n",
       "2  41.393192  2.161520       0             0.0  "
      ]
     },
     "execution_count": 9,
     "metadata": {},
     "output_type": "execute_result"
    }
   ],
   "source": [
    "data.head(3)"
   ]
  },
  {
   "cell_type": "code",
   "execution_count": 9,
   "id": "17c4d377",
   "metadata": {},
   "outputs": [
    {
     "data": {
      "text/plain": [
       "Britannia International Hotel Canary Wharf           4789\n",
       "Strand Palace Hotel                                  4256\n",
       "Park Plaza Westminster Bridge London                 4169\n",
       "Copthorne Tara Hotel London Kensington               3578\n",
       "DoubleTree by Hilton Hotel London Tower of London    3212\n",
       "                                                     ... \n",
       "Hotel Eitlj rg                                         12\n",
       "Hotel Daniel Paris                                     12\n",
       "Mercure Paris Porte d Orleans                          10\n",
       "Hotel Wagner                                           10\n",
       "Hotel Gallitzinberg                                     8\n",
       "Name: hotel_name, Length: 1492, dtype: int64"
      ]
     },
     "execution_count": 9,
     "metadata": {},
     "output_type": "execute_result"
    }
   ],
   "source": [
    "data['hotel_name'].value_counts()"
   ]
  },
  {
   "cell_type": "code",
   "execution_count": 10,
   "id": "9c492391",
   "metadata": {
    "execution": {
     "iopub.execute_input": "2022-02-08T19:14:34.973792Z",
     "iopub.status.busy": "2022-02-08T19:14:34.973193Z",
     "iopub.status.idle": "2022-02-08T19:14:35.186288Z",
     "shell.execute_reply": "2022-02-08T19:14:35.185728Z",
     "shell.execute_reply.started": "2022-02-08T18:44:34.015455Z"
    },
    "papermill": {
     "duration": 0.242101,
     "end_time": "2022-02-08T19:14:35.186448",
     "exception": false,
     "start_time": "2022-02-08T19:14:34.944347",
     "status": "completed"
    },
    "tags": []
   },
   "outputs": [],
   "source": [
    "# data.info()"
   ]
  },
  {
   "cell_type": "code",
   "execution_count": 11,
   "id": "dbe53827",
   "metadata": {},
   "outputs": [],
   "source": [
    "def get_city(address):\n",
    "    \"\"\" This function extract city and country information from address\n",
    "\n",
    "    Args:\n",
    "        address (pandas.Series): The source data\n",
    "    Returns:\n",
    "        region string like 'city country'\n",
    "    \"\"\"\n",
    "    # Extract the city and the country\n",
    "    region = ' '.join(address.split(' ')[-2:])\n",
    "    if region == 'United Kingdom':\n",
    "        region = address.split(' ')[-5] + ' ' + region\n",
    "            \n",
    "    return region\n",
    "\n",
    "data['city'] = data['hotel_address'].apply(get_city)"
   ]
  },
  {
   "cell_type": "code",
   "execution_count": 12,
   "id": "92f777da",
   "metadata": {
    "execution": {
     "iopub.execute_input": "2022-02-08T19:14:35.319524Z",
     "iopub.status.busy": "2022-02-08T19:14:35.318915Z",
     "iopub.status.idle": "2022-02-08T19:14:36.185657Z",
     "shell.execute_reply": "2022-02-08T19:14:36.186104Z",
     "shell.execute_reply.started": "2022-02-08T18:44:34.500478Z"
    },
    "papermill": {
     "duration": 0.902939,
     "end_time": "2022-02-08T19:14:36.186284",
     "exception": false,
     "start_time": "2022-02-08T19:14:35.283345",
     "status": "completed"
    },
    "tags": []
   },
   "outputs": [],
   "source": [
    "def fill_coordinates_dict(df):\n",
    "    \"\"\" This function collect existing coordinates into dictionary\n",
    "        for future implementations\n",
    "\n",
    "    Args:\n",
    "        df (pandas.DataFrame): The source data that we use for collecting the dictionary\n",
    "    Returns:\n",
    "        coordinates_dict (the dictionary of the coordinates of the regions) like {'city country': [latitude, longitude]}\n",
    "    \"\"\"\n",
    "    # Create empty dictionary\n",
    "    coordinates_dict = dict()\n",
    "    \n",
    "    # Go along the rows by indexes\n",
    "    for idx, row in enumerate(df.index):\n",
    "        # Extract the city and the country\n",
    "        if not np.isnan(df['lat'].iloc[idx]) and not np.isnan(df['lng'].iloc[idx]):\n",
    "            region = df['city'].iloc[idx]\n",
    "            \n",
    "            # Get the latitude and longitude from the rows\n",
    "            coordinates = list([df['lat'].iloc[idx], df['lng'].iloc[idx]])\n",
    "            \n",
    "            if region not in coordinates_dict.keys():\n",
    "                coordinates_dict.update({region: coordinates})\n",
    "            \n",
    "    return coordinates_dict\n",
    "\n",
    "\n",
    "def set_coordinates(df, regions_dict):\n",
    "    \"\"\" This function set coordinates for empty cells\n",
    "        using country and city information\n",
    "\n",
    "    Args:\n",
    "        df (pandas.DataFrame): The source dataframe\n",
    "        regions_dict (the dictionary of the coordinates of the regions) like {'city country': [latitude, longitude]}\n",
    "    Returns:\n",
    "        pandas.DataFrame: output dataframe\n",
    "    \"\"\"\n",
    "    # Go along the rows by indexes\n",
    "    for idx, row in enumerate(df.index):\n",
    "        # Get the latitude and longitude from the rows\n",
    "        lat = str(df['lat'].iloc[idx])\n",
    "        lng = str(df['lng'].iloc[idx])\n",
    "        \n",
    "        if lat in ['nan', 'NaN'] or lng in ['nan', 'NaN']:\n",
    "            region = df['city'].iloc[idx]\n",
    "            \n",
    "            if region in regions_dict.keys():\n",
    "                # Fill the coordinates\n",
    "                df['lat'].iloc[idx] = regions_dict[region][0]\n",
    "                df['lng'].iloc[idx] = regions_dict[region][1]\n",
    "                \n",
    "    return df"
   ]
  },
  {
   "cell_type": "code",
   "execution_count": 13,
   "id": "f7790b06",
   "metadata": {},
   "outputs": [
    {
     "name": "stdout",
     "output_type": "stream",
     "text": [
      "{'Milan Italy': [4.55331372e+01, 9.1711019], 'Amsterdam Netherlands': [52.3856494, 4.834443], 'Barcelona Spain': [41.3931918, 2.16152], 'London United Kingdom': [51.5241248, -0.1258066], 'Paris France': [48.872174, 2.328075], 'Vienna Austria': [48.191339, 16.3165873]}\n"
     ]
    },
    {
     "name": "stderr",
     "output_type": "stream",
     "text": [
      "/home/freeradical/anaconda3/envs/sf/lib/python3.9/site-packages/pandas/core/indexing.py:1732: SettingWithCopyWarning: \n",
      "A value is trying to be set on a copy of a slice from a DataFrame\n",
      "\n",
      "See the caveats in the documentation: https://pandas.pydata.org/pandas-docs/stable/user_guide/indexing.html#returning-a-view-versus-a-copy\n",
      "  self._setitem_single_block(indexer, value, name)\n"
     ]
    }
   ],
   "source": [
    "coordinates_dict = fill_coordinates_dict(data)\n",
    "print(coordinates_dict)\n",
    "\n",
    "data = set_coordinates(data, coordinates_dict)\n",
    "# data = data_sample.append(data_nans, sort=False).reset_index(drop=True)\n"
   ]
  },
  {
   "cell_type": "code",
   "execution_count": 14,
   "id": "79009e8a",
   "metadata": {},
   "outputs": [],
   "source": [
    "# population = {\n",
    "#     'Paris France': 2148327,\n",
    "#     'London United Kingdom': 8908081,\n",
    "#     'Milan Italy': 1366180, \n",
    "#     'Vienna Austria': 1911191,\n",
    "#     'Barcelona Spain': 1636732,\n",
    "#     'Amsterdam Netherlands': 860124\n",
    "# }\n",
    "# data['population'] = data['city'].map(population)"
   ]
  },
  {
   "cell_type": "code",
   "execution_count": 15,
   "id": "ccf97127",
   "metadata": {},
   "outputs": [],
   "source": [
    "data['review_date'] = pd.to_datetime(data['review_date'])\n",
    "\n",
    "data['review_season'] = data['review_date'].dt.quarter\n",
    "data['review_month'] = data['review_date'].dt.month\n",
    "data['review_dayofweek'] = data['review_date'].dt.dayofweek\n",
    "\n",
    "data['is_day_off'] = data['review_dayofweek'].apply(lambda x: 1 if x > 5 else 0)\n",
    "data = data.drop(['review_dayofweek'], axis=1)\n",
    "\n",
    "\n",
    "data['days_since_review'] = data['days_since_review'].apply(lambda x: int(x.split(' ')[0]))"
   ]
  },
  {
   "cell_type": "code",
   "execution_count": 16,
   "id": "f967ba27",
   "metadata": {},
   "outputs": [],
   "source": [
    "def collect_tags(df):\n",
    "    \"\"\"This function collects the tags information by type and counts\n",
    "    Args:\n",
    "        df (pandas.DataFrame): input data\n",
    "\n",
    "    Returns:\n",
    "        tags_list (list of the lists): [['Leisure trip', 'Couple', 'Superior Double Room', 'Stayed 1 night'], ... ['Leisure trip', 'Group', 'Large Room', 'Stayed 4 nights']]\n",
    "        tags_dict (dictionary): the dictionary of tags and their counts like {'Leisure trip': 23452, 'Couple': 67 ... 'Stayed 2 nights': 345}\n",
    "    \"\"\"\n",
    "    # Create empty tags list\n",
    "    tags_dict = dict()\n",
    "    tags_list = list()\n",
    "    # Go along the rows by indexes\n",
    "    for idx, row in data['tags'].items():\n",
    "        # Get the tags from the rows\n",
    "        tags = list(row.replace(\"[' \", '').replace(\" ']\", '').split(\" ', ' \"))\n",
    "        # Fill the tags list\n",
    "        tags_list.append(tags)\n",
    "        for tag in tags:\n",
    "            if tag not in tags_dict.keys():\n",
    "                tags_dict.update({tag: 1})\n",
    "            else:\n",
    "                tags_dict[tag] += 1\n",
    "                \n",
    "    return tags_list, tags_dict"
   ]
  },
  {
   "cell_type": "code",
   "execution_count": 17,
   "id": "ebef3926",
   "metadata": {},
   "outputs": [
    {
     "name": "stdout",
     "output_type": "stream",
     "text": [
      "2428\n",
      "[['Business trip', 'Solo traveler', 'Standard Double or Twin Room', 'Stayed 1 night'], ['Leisure trip', 'Couple', 'Queen Room', 'Stayed 1 night'], ['Business trip', 'Solo traveler', 'Executive Room', 'Stayed 3 nights', 'Submitted from a mobile device'], ['Group', 'Double or Twin Room', 'Stayed 1 night'], ['Couple', 'Standard Triple Room', 'Stayed 2 nights', 'Submitted from a mobile device'], ['Leisure trip', 'Couple', 'Superior Double Room', 'Stayed 1 night'], ['Leisure trip', 'Group', 'Large Room', 'Stayed 4 nights'], ['Leisure trip', 'Group', 'Superior King Room', 'Stayed 2 nights'], ['Leisure trip', 'Couple', 'Double or Twin Room', 'Stayed 3 nights'], ['Leisure trip', 'Couple', 'Junior Suite', 'Stayed 2 nights']]\n"
     ]
    }
   ],
   "source": [
    "tg_list, tg_dict = collect_tags(data)\n",
    "print(len(tg_dict))\n",
    "print(tg_list[5:15])"
   ]
  },
  {
   "cell_type": "code",
   "execution_count": 18,
   "id": "c3b4dad5",
   "metadata": {},
   "outputs": [
    {
     "name": "stdout",
     "output_type": "stream",
     "text": [
      "('Stayed 1 night', 193645)\n"
     ]
    }
   ],
   "source": [
    "def most_freq_tag_stayed(tags):\n",
    "    \"\"\"This function find the most frequent tag with keyword 'Stayed..'\n",
    "\n",
    "    Args:\n",
    "        df (pandas.DataFrame): input data\n",
    "\n",
    "    Returns:\n",
    "        tag: tag value\n",
    "        count: quantity in dataset\n",
    "    \"\"\"\n",
    "    max_tag = ''\n",
    "    max_count = 0\n",
    "    for tag, count in tags.items():\n",
    "        # Go along the items\n",
    "        \n",
    "        if 'stayed' in tag.lower():\n",
    "            if count > max_count:\n",
    "                max_count = count\n",
    "                max_tag = tag\n",
    "\n",
    "    return max_tag, max_count\n",
    "\n",
    "print(most_freq_tag_stayed(tg_dict))"
   ]
  },
  {
   "cell_type": "code",
   "execution_count": 19,
   "id": "275be60a",
   "metadata": {},
   "outputs": [],
   "source": [
    "def create_purpose_feature(tags):\n",
    "    \"\"\"This function find the tags information about purpose of the trip\n",
    "    Args:\n",
    "        tags (list of string): input tags list\n",
    "    Returns:\n",
    "        purpose(int): 2 - if the purpose is leisure, 1 - if business, 0 - na\n",
    "        tags: croped input tags list\n",
    "    \"\"\"\n",
    "    purpose = 0\n",
    "    for idx, tag in enumerate(tags):\n",
    "        if 'trip' in tag:\n",
    "            purpose = tags.pop(idx)\n",
    "            if 'leisure' in purpose.lower():\n",
    "                purpose = 2\n",
    "            elif 'business' in purpose.lower():\n",
    "                purpose = 1\n",
    "    return purpose, tags"
   ]
  },
  {
   "cell_type": "code",
   "execution_count": 20,
   "id": "48d7c84e",
   "metadata": {},
   "outputs": [],
   "source": [
    "def create_nights_feature(tags):\n",
    "    \"\"\"This function find the tags information about the number of nights staying at hotel\n",
    "    Args:\n",
    "        tags (list of string): input tags list\n",
    "    Returns:\n",
    "        nights(int): number of nights\n",
    "        tags: croped input tags list\n",
    "    \"\"\"\n",
    "    nights = 1\n",
    "    for idx, tag in enumerate(tags):\n",
    "        if 'Stayed' in tag:\n",
    "            nights = int(tags.pop(idx).split(' ')[1])\n",
    "            \n",
    "    return nights, tags"
   ]
  },
  {
   "cell_type": "code",
   "execution_count": 21,
   "id": "533c134d",
   "metadata": {},
   "outputs": [],
   "source": [
    "def create_mobile_feature(tags):\n",
    "    \"\"\"This function find the tags information about submitting from a mobile device\n",
    "    Args:\n",
    "        tags (list of string): input tags list\n",
    "    Returns:\n",
    "        mobile(int): 1 - submitted from mobive, 0 - no\n",
    "        tags: croped input tags list\n",
    "    \"\"\"\n",
    "    mobile = 0\n",
    "    for idx, tag in enumerate(tags):\n",
    "        if 'mobile' in tag:\n",
    "            tags.pop(idx)\n",
    "            mobile = 1\n",
    "    return mobile, tags"
   ]
  },
  {
   "cell_type": "code",
   "execution_count": 22,
   "id": "42e6c12e",
   "metadata": {},
   "outputs": [],
   "source": [
    "def create_tags_features(tag_lst):\n",
    "    \"\"\"This function parse the tags information about purpose of a trip , number of nights staying, room type etc.\n",
    "    Args:\n",
    "        df (pandas.DataFrame): input data\n",
    "        tags (list of lists of tags): like [['Leisure trip', 'Couple', 'Double Room', 'Stayed 2 nights'], ... ['Leisure trip', 'Group', 'Triple Room', 'Stayed 1 night']]\n",
    "    Returns:\n",
    "        features_list (formated features list): like [[1, 'Solo traveler', 'Standard Double or Twin Room', 1, 0], ... [0, 'Group', 'Double or Twin Room', 1, 0]]\n",
    "    \"\"\"\n",
    "    # Create empty features list\n",
    "    features_list = list()\n",
    "    \n",
    "    # Go along the items\n",
    "    for idx, tags in enumerate(tag_lst):\n",
    "        \n",
    "        # Extract trip purpose\n",
    "        trip_purpose, tags = create_purpose_feature(tags)\n",
    "    \n",
    "        # Extract nights number     \n",
    "        nights, tags = create_nights_feature(tags)\n",
    "        \n",
    "        # Extract mobile option    \n",
    "        mobile, tags = create_mobile_feature(tags)\n",
    "        \n",
    "        # Extract travellers type   \n",
    "        if len(tags):\n",
    "            travellers = tags.pop(0) \n",
    "        \n",
    "        # Extract room type    \n",
    "        if len(tags):\n",
    "            room_type = tags.pop(0) \n",
    "        \n",
    "        #Fill formated features list\n",
    "        features_list.append([trip_purpose, travellers, room_type, nights, mobile])\n",
    "        \n",
    "    return features_list"
   ]
  },
  {
   "cell_type": "code",
   "execution_count": 23,
   "id": "b0d6c8da",
   "metadata": {},
   "outputs": [
    {
     "data": {
      "text/plain": [
       "[[2, 'Group', 'Souterrain Triple Room', 3, 1],\n",
       " [2, 'Solo traveler', 'Deluxe Double Room', 2, 0],\n",
       " [2, 'Group', 'Classic Double or Twin Room', 5, 0],\n",
       " [2, 'Couple', 'Superior Double or Twin Room', 4, 0],\n",
       " [2, 'Solo traveler', 'Deluxe Double Room', 1, 0],\n",
       " [1, 'Solo traveler', 'Single Room', 3, 0],\n",
       " [2, 'Solo traveler', 'Superior Twin Room', 1, 0],\n",
       " [1, 'Couple', 'Deluxe Single Room', 2, 0],\n",
       " [2, 'Group', 'Nhow Double or Twin Room', 2, 1],\n",
       " [2, 'Couple', 'Superior Queen Suite with Sofa', 12, 1]]"
      ]
     },
     "execution_count": 23,
     "metadata": {},
     "output_type": "execute_result"
    }
   ],
   "source": [
    "features_list = create_tags_features(tg_list)\n",
    "features_list[100:110]"
   ]
  },
  {
   "cell_type": "code",
   "execution_count": 24,
   "id": "24be2c77",
   "metadata": {},
   "outputs": [],
   "source": [
    "features_df = pd.DataFrame(\n",
    "    data = features_list,\n",
    "    columns= ['trip_purpose', 'travellers', 'room_type', 'nights', 'mobile']\n",
    ")\n",
    "data = pd.concat([data, features_df], axis=1)\n",
    "data = data.drop(['tags'], axis=1)\n"
   ]
  },
  {
   "cell_type": "code",
   "execution_count": 25,
   "id": "815d2e45",
   "metadata": {},
   "outputs": [],
   "source": [
    "data[['trip_purpose', 'travellers', 'room_type', 'nights', 'mobile']].nunique()"
   ]
  },
  {
   "cell_type": "code",
   "execution_count": 26,
   "id": "9e7ca115",
   "metadata": {},
   "outputs": [],
   "source": [
    "rooms_type_31 = list(data['room_type'].value_counts()[:31].index)\n",
    "\n",
    "print(rooms_type_31)\n",
    "\n",
    "data['room_type'] = data['room_type'].apply(lambda x: x if x in rooms_type_31 else 'other')"
   ]
  },
  {
   "cell_type": "code",
   "execution_count": 27,
   "id": "a1fb57a3",
   "metadata": {},
   "outputs": [
    {
     "name": "stdout",
     "output_type": "stream",
     "text": [
      "[' United Kingdom ', ' United States of America ', ' Australia ', ' Ireland ', ' United Arab Emirates ', ' Saudi Arabia ', ' Netherlands ', ' Switzerland ', ' Germany ', ' Canada ', ' France ', ' Israel ', ' Italy ', ' Belgium ', ' Turkey ']\n"
     ]
    }
   ],
   "source": [
    "nations_15 = list(data['reviewer_nationality'].value_counts()[:15].index)\n",
    "\n",
    "print(nations_15)\n",
    "\n",
    "data['reviewer_nationality'] = data['reviewer_nationality'].apply(lambda x: x if x in nations_15 else 'other')"
   ]
  },
  {
   "cell_type": "code",
   "execution_count": 28,
   "id": "01c5f3ab",
   "metadata": {},
   "outputs": [],
   "source": [
    "data['satisfaction_ratio'] = ((data['review_total_positive_word_counts'] +1)/(data['review_total_negative_word_counts'] +1)) * 10 * data['nights']\n",
    "\n",
    "# s_r_min = data['satisfaction_ratio'].min()\n",
    "# s_r_max = data['satisfaction_ratio'].max()\n",
    "\n",
    "# data['satisfaction_ratio'] = (data['satisfaction_ratio'] - s_r_min)/(s_r_max - s_r_min)\n",
    "\n",
    "data['satisfaction_actuality'] = data['satisfaction_ratio'] / (0.5 * data['days_since_review'] + 1)\n",
    "\n",
    "# s_a_min = data['satisfaction_actuality'].min()\n",
    "# s_a_max = data['satisfaction_actuality'].max() \n",
    "\n",
    "# data['satisfaction_actuality'] = (data['satisfaction_actuality'] - s_a_min)/(s_a_max - s_a_min)"
   ]
  },
  {
   "cell_type": "code",
   "execution_count": 25,
   "id": "5fc573c9",
   "metadata": {},
   "outputs": [
    {
     "data": {
      "text/html": [
       "<div>\n",
       "<style scoped>\n",
       "    .dataframe tbody tr th:only-of-type {\n",
       "        vertical-align: middle;\n",
       "    }\n",
       "\n",
       "    .dataframe tbody tr th {\n",
       "        vertical-align: top;\n",
       "    }\n",
       "\n",
       "    .dataframe thead th {\n",
       "        text-align: right;\n",
       "    }\n",
       "</style>\n",
       "<table border=\"1\" class=\"dataframe\">\n",
       "  <thead>\n",
       "    <tr style=\"text-align: right;\">\n",
       "      <th></th>\n",
       "      <th>total_positive_words</th>\n",
       "      <th>total_negative_words</th>\n",
       "      <th>pos_neg_ratio</th>\n",
       "    </tr>\n",
       "    <tr>\n",
       "      <th>hotel_name</th>\n",
       "      <th></th>\n",
       "      <th></th>\n",
       "      <th></th>\n",
       "    </tr>\n",
       "  </thead>\n",
       "  <tbody>\n",
       "    <tr>\n",
       "      <th>11 Cadogan Gardens</th>\n",
       "      <td>3176</td>\n",
       "      <td>2469</td>\n",
       "      <td>1.286351</td>\n",
       "    </tr>\n",
       "    <tr>\n",
       "      <th>1K Hotel</th>\n",
       "      <td>2309</td>\n",
       "      <td>3690</td>\n",
       "      <td>0.625745</td>\n",
       "    </tr>\n",
       "    <tr>\n",
       "      <th>25hours Hotel beim MuseumsQuartier</th>\n",
       "      <td>15097</td>\n",
       "      <td>11135</td>\n",
       "      <td>1.355815</td>\n",
       "    </tr>\n",
       "    <tr>\n",
       "      <th>41</th>\n",
       "      <td>2606</td>\n",
       "      <td>915</td>\n",
       "      <td>2.848087</td>\n",
       "    </tr>\n",
       "    <tr>\n",
       "      <th>45 Park Lane Dorchester Collection</th>\n",
       "      <td>323</td>\n",
       "      <td>189</td>\n",
       "      <td>1.708995</td>\n",
       "    </tr>\n",
       "    <tr>\n",
       "      <th>...</th>\n",
       "      <td>...</td>\n",
       "      <td>...</td>\n",
       "      <td>...</td>\n",
       "    </tr>\n",
       "    <tr>\n",
       "      <th>citizenM London Bankside</th>\n",
       "      <td>31639</td>\n",
       "      <td>21204</td>\n",
       "      <td>1.492124</td>\n",
       "    </tr>\n",
       "    <tr>\n",
       "      <th>citizenM London Shoreditch</th>\n",
       "      <td>18118</td>\n",
       "      <td>12100</td>\n",
       "      <td>1.497355</td>\n",
       "    </tr>\n",
       "    <tr>\n",
       "      <th>citizenM Tower of London</th>\n",
       "      <td>41117</td>\n",
       "      <td>26294</td>\n",
       "      <td>1.563741</td>\n",
       "    </tr>\n",
       "    <tr>\n",
       "      <th>every hotel Piccadilly</th>\n",
       "      <td>9335</td>\n",
       "      <td>7297</td>\n",
       "      <td>1.279293</td>\n",
       "    </tr>\n",
       "    <tr>\n",
       "      <th>pentahotel Vienna</th>\n",
       "      <td>2080</td>\n",
       "      <td>2312</td>\n",
       "      <td>0.899654</td>\n",
       "    </tr>\n",
       "  </tbody>\n",
       "</table>\n",
       "<p>1492 rows × 3 columns</p>\n",
       "</div>"
      ],
      "text/plain": [
       "                                    total_positive_words  \\\n",
       "hotel_name                                                 \n",
       "11 Cadogan Gardens                                  3176   \n",
       "1K Hotel                                            2309   \n",
       "25hours Hotel beim MuseumsQuartier                 15097   \n",
       "41                                                  2606   \n",
       "45 Park Lane Dorchester Collection                   323   \n",
       "...                                                  ...   \n",
       "citizenM London Bankside                           31639   \n",
       "citizenM London Shoreditch                         18118   \n",
       "citizenM Tower of London                           41117   \n",
       "every hotel Piccadilly                              9335   \n",
       "pentahotel Vienna                                   2080   \n",
       "\n",
       "                                    total_negative_words  pos_neg_ratio  \n",
       "hotel_name                                                               \n",
       "11 Cadogan Gardens                                  2469       1.286351  \n",
       "1K Hotel                                            3690       0.625745  \n",
       "25hours Hotel beim MuseumsQuartier                 11135       1.355815  \n",
       "41                                                   915       2.848087  \n",
       "45 Park Lane Dorchester Collection                   189       1.708995  \n",
       "...                                                  ...            ...  \n",
       "citizenM London Bankside                           21204       1.492124  \n",
       "citizenM London Shoreditch                         12100       1.497355  \n",
       "citizenM Tower of London                           26294       1.563741  \n",
       "every hotel Piccadilly                              7297       1.279293  \n",
       "pentahotel Vienna                                   2312       0.899654  \n",
       "\n",
       "[1492 rows x 3 columns]"
      ]
     },
     "metadata": {},
     "output_type": "display_data"
    }
   ],
   "source": [
    "group_by_hotel_name = data.groupby(by='hotel_name')[['review_total_positive_word_counts', 'review_total_negative_word_counts']].sum()\n",
    "\n",
    "group_by_hotel_name['pos_neg_ratio'] = group_by_hotel_name['review_total_positive_word_counts']/group_by_hotel_name['review_total_negative_word_counts']\n",
    "\n",
    "group_by_hotel_name = group_by_hotel_name.rename(columns={\n",
    "    'review_total_positive_word_counts':'total_positive_words', \n",
    "    'review_total_negative_word_counts': 'total_negative_words', \n",
    "    'pos_neg_ratio': 'pos_neg_ratio'})\n",
    "display(group_by_hotel_name)"
   ]
  },
  {
   "cell_type": "code",
   "execution_count": 26,
   "id": "bff30af8",
   "metadata": {},
   "outputs": [
    {
     "data": {
      "text/html": [
       "<div>\n",
       "<style scoped>\n",
       "    .dataframe tbody tr th:only-of-type {\n",
       "        vertical-align: middle;\n",
       "    }\n",
       "\n",
       "    .dataframe tbody tr th {\n",
       "        vertical-align: top;\n",
       "    }\n",
       "\n",
       "    .dataframe thead th {\n",
       "        text-align: right;\n",
       "    }\n",
       "</style>\n",
       "<table border=\"1\" class=\"dataframe\">\n",
       "  <thead>\n",
       "    <tr style=\"text-align: right;\">\n",
       "      <th></th>\n",
       "      <th>hotel_address</th>\n",
       "      <th>additional_number_of_scoring</th>\n",
       "      <th>review_date</th>\n",
       "      <th>average_score</th>\n",
       "      <th>hotel_name</th>\n",
       "      <th>reviewer_nationality</th>\n",
       "      <th>negative_review</th>\n",
       "      <th>review_total_negative_word_counts</th>\n",
       "      <th>total_number_of_reviews</th>\n",
       "      <th>positive_review</th>\n",
       "      <th>...</th>\n",
       "      <th>total_number_of_reviews_reviewer_has_given</th>\n",
       "      <th>tags</th>\n",
       "      <th>days_since_review</th>\n",
       "      <th>lat</th>\n",
       "      <th>lng</th>\n",
       "      <th>sample</th>\n",
       "      <th>reviewer_score</th>\n",
       "      <th>total_positive_words</th>\n",
       "      <th>total_negative_words</th>\n",
       "      <th>pos_neg_ratio</th>\n",
       "    </tr>\n",
       "  </thead>\n",
       "  <tbody>\n",
       "    <tr>\n",
       "      <th>0</th>\n",
       "      <td>Via Senigallia 6 20161 Milan Italy</td>\n",
       "      <td>904</td>\n",
       "      <td>7/21/2017</td>\n",
       "      <td>8.1</td>\n",
       "      <td>Hotel Da Vinci</td>\n",
       "      <td>United Kingdom</td>\n",
       "      <td>Would have appreciated a shop in the hotel th...</td>\n",
       "      <td>52</td>\n",
       "      <td>16670</td>\n",
       "      <td>Hotel was great clean friendly staff free bre...</td>\n",
       "      <td>...</td>\n",
       "      <td>1</td>\n",
       "      <td>[' Leisure trip ', ' Couple ', ' Double Room '...</td>\n",
       "      <td>13 days</td>\n",
       "      <td>45.533137</td>\n",
       "      <td>9.171102</td>\n",
       "      <td>0</td>\n",
       "      <td>0.0</td>\n",
       "      <td>33648</td>\n",
       "      <td>50035</td>\n",
       "      <td>0.672489</td>\n",
       "    </tr>\n",
       "    <tr>\n",
       "      <th>1</th>\n",
       "      <td>Arlandaweg 10 Westpoort 1043 EW Amsterdam Neth...</td>\n",
       "      <td>612</td>\n",
       "      <td>12/12/2016</td>\n",
       "      <td>8.6</td>\n",
       "      <td>Urban Lodge Hotel</td>\n",
       "      <td>Belgium</td>\n",
       "      <td>No tissue paper box was present at the room</td>\n",
       "      <td>10</td>\n",
       "      <td>5018</td>\n",
       "      <td>No Positive</td>\n",
       "      <td>...</td>\n",
       "      <td>7</td>\n",
       "      <td>[' Leisure trip ', ' Group ', ' Triple Room ',...</td>\n",
       "      <td>234 day</td>\n",
       "      <td>52.385649</td>\n",
       "      <td>4.834443</td>\n",
       "      <td>0</td>\n",
       "      <td>0.0</td>\n",
       "      <td>27666</td>\n",
       "      <td>17034</td>\n",
       "      <td>1.624163</td>\n",
       "    </tr>\n",
       "    <tr>\n",
       "      <th>2</th>\n",
       "      <td>Mallorca 251 Eixample 08008 Barcelona Spain</td>\n",
       "      <td>46</td>\n",
       "      <td>11/26/2015</td>\n",
       "      <td>8.3</td>\n",
       "      <td>Alexandra Barcelona A DoubleTree by Hilton</td>\n",
       "      <td>Sweden</td>\n",
       "      <td>Pillows</td>\n",
       "      <td>3</td>\n",
       "      <td>351</td>\n",
       "      <td>Nice welcoming and service</td>\n",
       "      <td>...</td>\n",
       "      <td>15</td>\n",
       "      <td>[' Business trip ', ' Solo traveler ', ' Twin ...</td>\n",
       "      <td>616 day</td>\n",
       "      <td>41.393192</td>\n",
       "      <td>2.161520</td>\n",
       "      <td>0</td>\n",
       "      <td>0.0</td>\n",
       "      <td>949</td>\n",
       "      <td>2053</td>\n",
       "      <td>0.462250</td>\n",
       "    </tr>\n",
       "    <tr>\n",
       "      <th>3</th>\n",
       "      <td>Piazza Della Repubblica 17 Central Station 201...</td>\n",
       "      <td>241</td>\n",
       "      <td>10/17/2015</td>\n",
       "      <td>9.1</td>\n",
       "      <td>Hotel Principe Di Savoia</td>\n",
       "      <td>United States of America</td>\n",
       "      <td>No Negative</td>\n",
       "      <td>0</td>\n",
       "      <td>1543</td>\n",
       "      <td>Everything including the nice upgrade The Hot...</td>\n",
       "      <td>...</td>\n",
       "      <td>9</td>\n",
       "      <td>[' Leisure trip ', ' Couple ', ' Ambassador Ju...</td>\n",
       "      <td>656 day</td>\n",
       "      <td>45.479888</td>\n",
       "      <td>9.196298</td>\n",
       "      <td>0</td>\n",
       "      <td>0.0</td>\n",
       "      <td>4729</td>\n",
       "      <td>2882</td>\n",
       "      <td>1.640874</td>\n",
       "    </tr>\n",
       "    <tr>\n",
       "      <th>4</th>\n",
       "      <td>Singel 303 309 Amsterdam City Center 1012 WJ A...</td>\n",
       "      <td>834</td>\n",
       "      <td>5/16/2016</td>\n",
       "      <td>9.1</td>\n",
       "      <td>Hotel Esther a</td>\n",
       "      <td>United Kingdom</td>\n",
       "      <td>No Negative</td>\n",
       "      <td>0</td>\n",
       "      <td>4687</td>\n",
       "      <td>Lovely hotel v welcoming staff</td>\n",
       "      <td>...</td>\n",
       "      <td>2</td>\n",
       "      <td>[' Business trip ', ' Solo traveler ', ' Class...</td>\n",
       "      <td>444 day</td>\n",
       "      <td>52.370545</td>\n",
       "      <td>4.888644</td>\n",
       "      <td>0</td>\n",
       "      <td>0.0</td>\n",
       "      <td>41071</td>\n",
       "      <td>24900</td>\n",
       "      <td>1.649438</td>\n",
       "    </tr>\n",
       "  </tbody>\n",
       "</table>\n",
       "<p>5 rows × 21 columns</p>\n",
       "</div>"
      ],
      "text/plain": [
       "                                       hotel_address  \\\n",
       "0                 Via Senigallia 6 20161 Milan Italy   \n",
       "1  Arlandaweg 10 Westpoort 1043 EW Amsterdam Neth...   \n",
       "2        Mallorca 251 Eixample 08008 Barcelona Spain   \n",
       "3  Piazza Della Repubblica 17 Central Station 201...   \n",
       "4  Singel 303 309 Amsterdam City Center 1012 WJ A...   \n",
       "\n",
       "   additional_number_of_scoring review_date  average_score  \\\n",
       "0                           904   7/21/2017            8.1   \n",
       "1                           612  12/12/2016            8.6   \n",
       "2                            46  11/26/2015            8.3   \n",
       "3                           241  10/17/2015            9.1   \n",
       "4                           834   5/16/2016            9.1   \n",
       "\n",
       "                                   hotel_name        reviewer_nationality  \\\n",
       "0                              Hotel Da Vinci             United Kingdom    \n",
       "1                           Urban Lodge Hotel                    Belgium    \n",
       "2  Alexandra Barcelona A DoubleTree by Hilton                     Sweden    \n",
       "3                    Hotel Principe Di Savoia   United States of America    \n",
       "4                              Hotel Esther a             United Kingdom    \n",
       "\n",
       "                                     negative_review  \\\n",
       "0   Would have appreciated a shop in the hotel th...   \n",
       "1        No tissue paper box was present at the room   \n",
       "2                                           Pillows    \n",
       "3                                        No Negative   \n",
       "4                                        No Negative   \n",
       "\n",
       "   review_total_negative_word_counts  total_number_of_reviews  \\\n",
       "0                                 52                    16670   \n",
       "1                                 10                     5018   \n",
       "2                                  3                      351   \n",
       "3                                  0                     1543   \n",
       "4                                  0                     4687   \n",
       "\n",
       "                                     positive_review  ...  \\\n",
       "0   Hotel was great clean friendly staff free bre...  ...   \n",
       "1                                        No Positive  ...   \n",
       "2                         Nice welcoming and service  ...   \n",
       "3   Everything including the nice upgrade The Hot...  ...   \n",
       "4                    Lovely hotel v welcoming staff   ...   \n",
       "\n",
       "   total_number_of_reviews_reviewer_has_given  \\\n",
       "0                                           1   \n",
       "1                                           7   \n",
       "2                                          15   \n",
       "3                                           9   \n",
       "4                                           2   \n",
       "\n",
       "                                                tags days_since_review  \\\n",
       "0  [' Leisure trip ', ' Couple ', ' Double Room '...           13 days   \n",
       "1  [' Leisure trip ', ' Group ', ' Triple Room ',...           234 day   \n",
       "2  [' Business trip ', ' Solo traveler ', ' Twin ...           616 day   \n",
       "3  [' Leisure trip ', ' Couple ', ' Ambassador Ju...           656 day   \n",
       "4  [' Business trip ', ' Solo traveler ', ' Class...           444 day   \n",
       "\n",
       "         lat       lng  sample  reviewer_score  total_positive_words  \\\n",
       "0  45.533137  9.171102       0             0.0                 33648   \n",
       "1  52.385649  4.834443       0             0.0                 27666   \n",
       "2  41.393192  2.161520       0             0.0                   949   \n",
       "3  45.479888  9.196298       0             0.0                  4729   \n",
       "4  52.370545  4.888644       0             0.0                 41071   \n",
       "\n",
       "   total_negative_words  pos_neg_ratio  \n",
       "0                 50035       0.672489  \n",
       "1                 17034       1.624163  \n",
       "2                  2053       0.462250  \n",
       "3                  2882       1.640874  \n",
       "4                 24900       1.649438  \n",
       "\n",
       "[5 rows x 21 columns]"
      ]
     },
     "metadata": {},
     "output_type": "display_data"
    }
   ],
   "source": [
    "joined_data = data.join(\n",
    "    group_by_hotel_name,\n",
    "    how='left',\n",
    "    on='hotel_name'\n",
    ")\n",
    "display(joined_data.head(3))"
   ]
  },
  {
   "cell_type": "code",
   "execution_count": 29,
   "id": "db0fb670",
   "metadata": {},
   "outputs": [
    {
     "name": "stderr",
     "output_type": "stream",
     "text": [
      "[nltk_data] Downloading package vader_lexicon to\n",
      "[nltk_data]     /home/freeradical/nltk_data...\n",
      "[nltk_data]   Package vader_lexicon is already up-to-date!\n"
     ]
    }
   ],
   "source": [
    "nltk.downloader.download('vader_lexicon')\n",
    "\n",
    "sent_analyzer = SentimentIntensityAnalyzer()\n",
    "\n",
    "def get_rewiew_sentiment(reviews):\n",
    "    \"\"\"This function analizes text reviews and fill the dictionary with parameters\n",
    "    Args:\n",
    "        reviews (pd.Series): 'negative_review' or 'positive_review' features\n",
    "    Returns:\n",
    "        list: [[0.129, 0.747, 0.125, -0.0554], [0.216, 0.784, 0.0, -0.296], [0.0, 1.0, 0.0, 0.0] ... [1.0, 0.0, 0.0, -0.7096]]\n",
    "    \"\"\"\n",
    "    \n",
    "    rev_list = list()\n",
    "   \n",
    "    for idx, review in reviews.items():\n",
    "        rev = sent_analyzer.polarity_scores(review)\n",
    "        rev_list.append(list(rev.values()))\n",
    "    \n",
    "    return rev_list"
   ]
  },
  {
   "cell_type": "code",
   "execution_count": 30,
   "id": "c6beccbf",
   "metadata": {},
   "outputs": [],
   "source": [
    "rev_list = get_rewiew_sentiment(data['negative_review'])\n",
    "\n",
    "negative_reviews = pd.DataFrame(rev_list, columns= ['neg_neg', 'neg_neu', 'neg_pos', 'neg_compound'])\n",
    "negative_reviews.drop(['neg_neu', 'neg_neg'], axis=1, inplace=True)\n",
    "\n",
    "data = pd.concat([data, negative_reviews], axis=1)\n",
    "\n",
    "rev_list.clear()\n",
    "\n",
    "rev_list = get_rewiew_sentiment(data['positive_review'])\n",
    "\n",
    "positive_reviews = pd.DataFrame(rev_list, columns= ['pos_neg', 'pos_neu', 'pos_pos', 'pos_compound'])\n",
    "positive_reviews.drop(['pos_neu', 'pos_pos'], axis=1, inplace=True)\n",
    "\n",
    "data = pd.concat([data, positive_reviews], axis=1)"
   ]
  },
  {
   "cell_type": "code",
   "execution_count": 31,
   "id": "4ba21696",
   "metadata": {},
   "outputs": [
    {
     "name": "stdout",
     "output_type": "stream",
     "text": [
      "<class 'pandas.core.frame.DataFrame'>\n",
      "RangeIndex: 515738 entries, 0 to 515737\n",
      "Data columns (total 27 columns):\n",
      " #   Column                                      Non-Null Count   Dtype         \n",
      "---  ------                                      --------------   -----         \n",
      " 0   hotel_address                               515738 non-null  object        \n",
      " 1   additional_number_of_scoring                515738 non-null  int64         \n",
      " 2   review_date                                 515738 non-null  datetime64[ns]\n",
      " 3   average_score                               515738 non-null  float64       \n",
      " 4   hotel_name                                  515738 non-null  object        \n",
      " 5   reviewer_nationality                        515738 non-null  object        \n",
      " 6   negative_review                             515738 non-null  object        \n",
      " 7   review_total_negative_word_counts           515738 non-null  int64         \n",
      " 8   total_number_of_reviews                     515738 non-null  int64         \n",
      " 9   positive_review                             515738 non-null  object        \n",
      " 10  review_total_positive_word_counts           515738 non-null  int64         \n",
      " 11  total_number_of_reviews_reviewer_has_given  515738 non-null  int64         \n",
      " 12  days_since_review                           515738 non-null  int64         \n",
      " 13  lat                                         515738 non-null  float64       \n",
      " 14  lng                                         515738 non-null  float64       \n",
      " 15  sample                                      515738 non-null  int64         \n",
      " 16  reviewer_score                              515738 non-null  float64       \n",
      " 17  city                                        515738 non-null  object        \n",
      " 18  review_season                               515738 non-null  int64         \n",
      " 19  review_month                                515738 non-null  int64         \n",
      " 20  is_day_off                                  515738 non-null  int64         \n",
      " 21  satisfaction_ratio                          515738 non-null  float64       \n",
      " 22  satisfaction_actuality                      515738 non-null  float64       \n",
      " 23  neg_pos                                     515738 non-null  float64       \n",
      " 24  neg_compound                                515738 non-null  float64       \n",
      " 25  pos_neg                                     515738 non-null  float64       \n",
      " 26  pos_compound                                515738 non-null  float64       \n",
      "dtypes: datetime64[ns](1), float64(10), int64(10), object(6)\n",
      "memory usage: 106.2+ MB\n"
     ]
    }
   ],
   "source": [
    "data.info()"
   ]
  },
  {
   "cell_type": "code",
   "execution_count": 32,
   "id": "ca4847bb",
   "metadata": {},
   "outputs": [
    {
     "name": "stderr",
     "output_type": "stream",
     "text": [
      "/home/freeradical/anaconda3/envs/sf/lib/python3.9/site-packages/category_encoders/utils.py:21: FutureWarning: is_categorical is deprecated and will be removed in a future version.  Use is_categorical_dtype instead\n",
      "  elif pd.api.types.is_categorical(cols):\n"
     ]
    }
   ],
   "source": [
    "bin_encoder = ce.BinaryEncoder(cols=['reviewer_nationality']) # указываем столбец для кодирования\n",
    "type_bin = bin_encoder.fit_transform(data['reviewer_nationality'])\n",
    "data = pd.concat([data, type_bin], axis=1)\n",
    "\n",
    "bin_encoder = ce.BinaryEncoder(cols=['travellers']) # указываем столбец для кодирования\n",
    "type_bin = bin_encoder.fit_transform(data['travellers'])\n",
    "data = pd.concat([data, type_bin], axis=1)\n",
    "\n",
    "bin_encoder = ce.BinaryEncoder(cols=['room_type']) # указываем столбец для кодирования\n",
    "type_bin = bin_encoder.fit_transform(data['room_type'])\n",
    "data = pd.concat([data, type_bin], axis=1)\n",
    "\n",
    "# bin_encoder = ce.BinaryEncoder(cols=['review_month']) # указываем столбец для кодирования\n",
    "# type_bin = bin_encoder.fit_transform(data['review_month'])\n",
    "# data = pd.concat([data, type_bin], axis=1)\n",
    "\n",
    "\n",
    "# encoder = ce.OneHotEncoder(cols=['type']) # указываем столбец для кодирования\n",
    "# type_bin = encoder.fit_transform(clothing['type'])\n",
    "# clothing = pd.concat([clothing, type_bin], axis=1)"
   ]
  },
  {
   "cell_type": "code",
   "execution_count": 33,
   "id": "10ba4971",
   "metadata": {},
   "outputs": [],
   "source": [
    "data.drop(['review_date'], axis = 1, inplace=True) #'additional_number_of_scoring', , 'review_season', 'review_month'"
   ]
  },
  {
   "cell_type": "code",
   "execution_count": 34,
   "id": "fb1c8be5",
   "metadata": {},
   "outputs": [
    {
     "name": "stdout",
     "output_type": "stream",
     "text": [
      "<class 'pandas.core.frame.DataFrame'>\n",
      "RangeIndex: 515738 entries, 0 to 515737\n",
      "Data columns (total 28 columns):\n",
      " #   Column                                      Non-Null Count   Dtype  \n",
      "---  ------                                      --------------   -----  \n",
      " 0   hotel_address                               515738 non-null  object \n",
      " 1   average_score                               515738 non-null  float64\n",
      " 2   hotel_name                                  515738 non-null  object \n",
      " 3   reviewer_nationality                        515738 non-null  object \n",
      " 4   negative_review                             515738 non-null  object \n",
      " 5   review_total_negative_word_counts           515738 non-null  int64  \n",
      " 6   total_number_of_reviews                     515738 non-null  int64  \n",
      " 7   positive_review                             515738 non-null  object \n",
      " 8   review_total_positive_word_counts           515738 non-null  int64  \n",
      " 9   total_number_of_reviews_reviewer_has_given  515738 non-null  int64  \n",
      " 10  days_since_review                           515738 non-null  int64  \n",
      " 11  lat                                         515738 non-null  float64\n",
      " 12  lng                                         515738 non-null  float64\n",
      " 13  sample                                      515738 non-null  int64  \n",
      " 14  reviewer_score                              515738 non-null  float64\n",
      " 15  city                                        515738 non-null  object \n",
      " 16  is_day_off                                  515738 non-null  int64  \n",
      " 17  satisfaction_ratio                          515738 non-null  float64\n",
      " 18  satisfaction_actuality                      515738 non-null  float64\n",
      " 19  neg_pos                                     515738 non-null  float64\n",
      " 20  neg_compound                                515738 non-null  float64\n",
      " 21  pos_neg                                     515738 non-null  float64\n",
      " 22  pos_compound                                515738 non-null  float64\n",
      " 23  reviewer_nationality_0                      515738 non-null  int64  \n",
      " 24  reviewer_nationality_1                      515738 non-null  int64  \n",
      " 25  reviewer_nationality_2                      515738 non-null  int64  \n",
      " 26  reviewer_nationality_3                      515738 non-null  int64  \n",
      " 27  reviewer_nationality_4                      515738 non-null  int64  \n",
      "dtypes: float64(10), int64(12), object(6)\n",
      "memory usage: 110.2+ MB\n"
     ]
    }
   ],
   "source": [
    "data.info()"
   ]
  },
  {
   "cell_type": "code",
   "execution_count": 35,
   "id": "51ebcbab",
   "metadata": {},
   "outputs": [
    {
     "name": "stdout",
     "output_type": "stream",
     "text": [
      "['hotel_address', 'hotel_name', 'reviewer_nationality', 'negative_review', 'positive_review', 'city']\n"
     ]
    }
   ],
   "source": [
    "# убираем признаки которые еще не успели обработать, \n",
    "# модель на признаках с dtypes \"object\" обучаться не будет, просто выберим их и удалим\n",
    "# object_columns = [s for s in data.columns if data[s].dtypes == 'object']\n",
    "object_columns = list(data.columns[data.dtypes == 'object'])\n",
    "print(object_columns)\n",
    "data.drop(object_columns, axis = 1, inplace=True)"
   ]
  },
  {
   "cell_type": "code",
   "execution_count": 36,
   "id": "1b67c5f6",
   "metadata": {},
   "outputs": [],
   "source": [
    "# col_names = data.columns\n",
    "\n",
    "# # инициализируем нормализатор MinMaxScaler\n",
    "# mm_scaler = preprocessing.MinMaxScaler()\n",
    "\n",
    "# # копируем исходный датасет\n",
    "# data = mm_scaler.fit_transform(data)\n",
    "\n",
    "# # Преобразуем промежуточный датасет в полноценный датафрейм для визуализации\n",
    "# data = pd.DataFrame(data, columns=col_names)\n"
   ]
  },
  {
   "cell_type": "code",
   "execution_count": 37,
   "id": "f4e9561b",
   "metadata": {},
   "outputs": [
    {
     "data": {
      "text/plain": [
       "<AxesSubplot:>"
      ]
     },
     "execution_count": 37,
     "metadata": {},
     "output_type": "execute_result"
    },
    {
     "data": {
      "image/png": "[encoded data removed]",
      "text/plain": [
       "<Figure size 1440x1080 with 2 Axes>"
      ]
     },
     "metadata": {
      "needs_background": "light"
     },
     "output_type": "display_data"
    }
   ],
   "source": [
    "plt.rcParams['figure.figsize'] = (20,15)\n",
    "sns.heatmap(data.drop(['sample'], axis=1).corr(), annot=True)"
   ]
  },
  {
   "cell_type": "code",
   "execution_count": 38,
   "id": "58cf7cd5",
   "metadata": {},
   "outputs": [
    {
     "name": "stdout",
     "output_type": "stream",
     "text": [
      "<class 'pandas.core.frame.DataFrame'>\n",
      "RangeIndex: 515738 entries, 0 to 515737\n",
      "Data columns (total 22 columns):\n",
      " #   Column                                      Non-Null Count   Dtype  \n",
      "---  ------                                      --------------   -----  \n",
      " 0   average_score                               515738 non-null  float64\n",
      " 1   review_total_negative_word_counts           515738 non-null  int64  \n",
      " 2   total_number_of_reviews                     515738 non-null  int64  \n",
      " 3   review_total_positive_word_counts           515738 non-null  int64  \n",
      " 4   total_number_of_reviews_reviewer_has_given  515738 non-null  int64  \n",
      " 5   days_since_review                           515738 non-null  int64  \n",
      " 6   lat                                         515738 non-null  float64\n",
      " 7   lng                                         515738 non-null  float64\n",
      " 8   sample                                      515738 non-null  int64  \n",
      " 9   reviewer_score                              515738 non-null  float64\n",
      " 10  is_day_off                                  515738 non-null  int64  \n",
      " 11  satisfaction_ratio                          515738 non-null  float64\n",
      " 12  satisfaction_actuality                      515738 non-null  float64\n",
      " 13  neg_pos                                     515738 non-null  float64\n",
      " 14  neg_compound                                515738 non-null  float64\n",
      " 15  pos_neg                                     515738 non-null  float64\n",
      " 16  pos_compound                                515738 non-null  float64\n",
      " 17  reviewer_nationality_0                      515738 non-null  int64  \n",
      " 18  reviewer_nationality_1                      515738 non-null  int64  \n",
      " 19  reviewer_nationality_2                      515738 non-null  int64  \n",
      " 20  reviewer_nationality_3                      515738 non-null  int64  \n",
      " 21  reviewer_nationality_4                      515738 non-null  int64  \n",
      "dtypes: float64(10), int64(12)\n",
      "memory usage: 86.6 MB\n"
     ]
    }
   ],
   "source": [
    "data.info()"
   ]
  },
  {
   "cell_type": "code",
   "execution_count": 39,
   "id": "69e46903",
   "metadata": {
    "execution": {
     "iopub.execute_input": "2022-02-08T19:14:37.505890Z",
     "iopub.status.busy": "2022-02-08T19:14:37.505020Z",
     "iopub.status.idle": "2022-02-08T19:14:37.548588Z",
     "shell.execute_reply": "2022-02-08T19:14:37.549135Z",
     "shell.execute_reply.started": "2022-02-08T18:44:36.519234Z"
    },
    "papermill": {
     "duration": 0.076208,
     "end_time": "2022-02-08T19:14:37.549330",
     "exception": false,
     "start_time": "2022-02-08T19:14:37.473122",
     "status": "completed"
    },
    "tags": []
   },
   "outputs": [],
   "source": [
    "# Теперь выделим тестовую часть\n",
    "train_data = data.query('sample == 1').drop(['sample'], axis=1)\n",
    "test_data = data.query('sample == 0').drop(['sample'], axis=1)\n",
    "\n",
    "y = train_data.reviewer_score.values            # наш таргет\n",
    "X = train_data.drop(['reviewer_score'], axis=1)"
   ]
  },
  {
   "cell_type": "code",
   "execution_count": 40,
   "id": "6663e04b",
   "metadata": {},
   "outputs": [],
   "source": [
    "# # непрерывные признаки\n",
    "# num_cols = ['total_number_of_reviews', 'review_total_negative_word_counts']\n",
    "\n",
    "# # категориальные признаки\n",
    "# cat_cols = ['average_score', 'lat']"
   ]
  },
  {
   "cell_type": "code",
   "execution_count": 41,
   "id": "b75a6d86",
   "metadata": {},
   "outputs": [],
   "source": [
    "# y=y.astype('int')\n",
    "\n",
    "\n",
    "# from sklearn.feature_selection import chi2 # хи-квадрат\n",
    "\n",
    "# imp_cat = pd.Series(chi2(X[cat_cols], y)[0], index=cat_cols)\n",
    "# imp_cat.sort_values(inplace = True)\n",
    "# imp_cat.plot(kind = 'barh')"
   ]
  },
  {
   "cell_type": "code",
   "execution_count": 42,
   "id": "5045cc9a",
   "metadata": {
    "execution": {
     "iopub.execute_input": "2022-02-08T19:14:37.610632Z",
     "iopub.status.busy": "2022-02-08T19:14:37.607245Z",
     "iopub.status.idle": "2022-02-08T19:14:37.664876Z",
     "shell.execute_reply": "2022-02-08T19:14:37.664240Z",
     "shell.execute_reply.started": "2022-02-08T18:44:36.564379Z"
    },
    "papermill": {
     "duration": 0.089229,
     "end_time": "2022-02-08T19:14:37.665021",
     "exception": false,
     "start_time": "2022-02-08T19:14:37.575792",
     "status": "completed"
    },
    "tags": []
   },
   "outputs": [],
   "source": [
    "# Воспользуемся специальной функцие train_test_split для разбивки тестовых данных\n",
    "# выделим 20% данных на валидацию (параметр test_size)\n",
    "X_train, X_test, y_train, y_test = train_test_split(X, y, test_size=    0.2, random_state=RANDOM_SEED)"
   ]
  },
  {
   "cell_type": "code",
   "execution_count": 43,
   "id": "3da6a0b4",
   "metadata": {
    "execution": {
     "iopub.execute_input": "2022-02-08T19:14:37.724787Z",
     "iopub.status.busy": "2022-02-08T19:14:37.724146Z",
     "iopub.status.idle": "2022-02-08T19:14:37.726536Z",
     "shell.execute_reply": "2022-02-08T19:14:37.726982Z",
     "shell.execute_reply.started": "2022-02-08T18:44:36.614037Z"
    },
    "papermill": {
     "duration": 0.035799,
     "end_time": "2022-02-08T19:14:37.727149",
     "exception": false,
     "start_time": "2022-02-08T19:14:37.691350",
     "status": "completed"
    },
    "tags": []
   },
   "outputs": [
    {
     "data": {
      "text/plain": [
       "((128935, 21), (386803, 21), (386803, 20), (309442, 20), (77361, 20))"
      ]
     },
     "execution_count": 43,
     "metadata": {},
     "output_type": "execute_result"
    }
   ],
   "source": [
    "# проверяем\n",
    "test_data.shape, train_data.shape, X.shape, X_train.shape, X_test.shape"
   ]
  },
  {
   "cell_type": "code",
   "execution_count": 44,
   "id": "cc67dfef",
   "metadata": {
    "execution": {
     "iopub.execute_input": "2022-02-08T19:14:38.033380Z",
     "iopub.status.busy": "2022-02-08T19:14:38.032424Z",
     "iopub.status.idle": "2022-02-08T19:14:38.036262Z",
     "shell.execute_reply": "2022-02-08T19:14:38.036790Z",
     "shell.execute_reply.started": "2022-02-08T18:44:36.631597Z"
    },
    "papermill": {
     "duration": 0.034367,
     "end_time": "2022-02-08T19:14:38.036955",
     "exception": false,
     "start_time": "2022-02-08T19:14:38.002588",
     "status": "completed"
    },
    "tags": []
   },
   "outputs": [],
   "source": [
    "# Создаём модель (НАСТРОЙКИ НЕ ТРОГАЕМ)\n",
    "model = RandomForestRegressor(n_estimators=100, verbose=1, n_jobs=-1, random_state=RANDOM_SEED)"
   ]
  },
  {
   "cell_type": "code",
   "execution_count": 45,
   "id": "38c6100a",
   "metadata": {
    "execution": {
     "iopub.execute_input": "2022-02-08T19:14:38.100230Z",
     "iopub.status.busy": "2022-02-08T19:14:38.098907Z",
     "iopub.status.idle": "2022-02-08T19:15:29.981505Z",
     "shell.execute_reply": "2022-02-08T19:15:29.982012Z",
     "shell.execute_reply.started": "2022-02-08T18:44:36.685783Z"
    },
    "papermill": {
     "duration": 51.917696,
     "end_time": "2022-02-08T19:15:29.982201",
     "exception": false,
     "start_time": "2022-02-08T19:14:38.064505",
     "status": "completed"
    },
    "tags": []
   },
   "outputs": [
    {
     "name": "stderr",
     "output_type": "stream",
     "text": [
      "[Parallel(n_jobs=-1)]: Using backend ThreadingBackend with 4 concurrent workers.\n",
      "[Parallel(n_jobs=-1)]: Done  42 tasks      | elapsed:   47.6s\n",
      "[Parallel(n_jobs=-1)]: Done 100 out of 100 | elapsed:  1.8min finished\n",
      "[Parallel(n_jobs=4)]: Using backend ThreadingBackend with 4 concurrent workers.\n",
      "[Parallel(n_jobs=4)]: Done  42 tasks      | elapsed:    0.9s\n",
      "[Parallel(n_jobs=4)]: Done 100 out of 100 | elapsed:    2.2s finished\n"
     ]
    }
   ],
   "source": [
    "# Обучаем модель на тестовом наборе данных\n",
    "model.fit(X_train, y_train)\n",
    "\n",
    "# Используем обученную модель для предсказания рейтинга ресторанов в тестовой выборке.\n",
    "# Предсказанные значения записываем в переменную y_pred\n",
    "y_pred = model.predict(X_test)"
   ]
  },
  {
   "cell_type": "code",
   "execution_count": 46,
   "id": "0bfbd9da",
   "metadata": {
    "execution": {
     "iopub.execute_input": "2022-02-08T19:15:30.047401Z",
     "iopub.status.busy": "2022-02-08T19:15:30.045169Z",
     "iopub.status.idle": "2022-02-08T19:15:30.054658Z",
     "shell.execute_reply": "2022-02-08T19:15:30.053627Z",
     "shell.execute_reply.started": "2022-02-08T18:45:41.407883Z"
    },
    "papermill": {
     "duration": 0.043029,
     "end_time": "2022-02-08T19:15:30.054903",
     "exception": false,
     "start_time": "2022-02-08T19:15:30.011874",
     "status": "completed"
    },
    "tags": []
   },
   "outputs": [
    {
     "name": "stdout",
     "output_type": "stream",
     "text": [
      "MAPE: 0.8830012615560563\n"
     ]
    }
   ],
   "source": [
    "# Сравниваем предсказанные значения (y_pred) с реальными (y_test), и смотрим насколько они в среднем отличаются\n",
    "# Метрика называется Mean Absolute Error (MAE) и показывает среднее отклонение предсказанных значений от фактических.\n",
    "print('MAPE:', metrics.mean_absolute_error(y_test, y_pred))"
   ]
  },
  {
   "cell_type": "code",
   "execution_count": 47,
   "id": "db88cbfc",
   "metadata": {
    "execution": {
     "iopub.execute_input": "2022-02-08T19:15:30.118909Z",
     "iopub.status.busy": "2022-02-08T19:15:30.118206Z",
     "iopub.status.idle": "2022-02-08T19:15:30.566895Z",
     "shell.execute_reply": "2022-02-08T19:15:30.567333Z",
     "shell.execute_reply.started": "2022-02-08T18:45:41.416087Z"
    },
    "papermill": {
     "duration": 0.483326,
     "end_time": "2022-02-08T19:15:30.567502",
     "exception": false,
     "start_time": "2022-02-08T19:15:30.084176",
     "status": "completed"
    },
    "tags": []
   },
   "outputs": [
    {
     "data": {
      "text/plain": [
       "<AxesSubplot:>"
      ]
     },
     "execution_count": 47,
     "metadata": {},
     "output_type": "execute_result"
    },
    {
     "data": {
      "image/png": "[encoded data removed]",
      "text/plain": [
       "<Figure size 720x720 with 1 Axes>"
      ]
     },
     "metadata": {
      "needs_background": "light"
     },
     "output_type": "display_data"
    }
   ],
   "source": [
    "# в RandomForestRegressor есть возможность вывести самые важные признаки для модели\n",
    "plt.rcParams['figure.figsize'] = (10,10)\n",
    "feat_importances = pd.Series(model.feature_importances_, index=X.columns)\n",
    "feat_importances.nlargest(15).plot(kind='barh')"
   ]
  },
  {
   "cell_type": "code",
   "execution_count": null,
   "id": "bd9c9908",
   "metadata": {
    "execution": {
     "iopub.execute_input": "2022-02-08T19:15:30.625115Z",
     "iopub.status.busy": "2022-02-08T19:15:30.624515Z",
     "iopub.status.idle": "2022-02-08T19:15:30.639827Z",
     "shell.execute_reply": "2022-02-08T19:15:30.640317Z",
     "shell.execute_reply.started": "2022-02-08T18:45:41.866035Z"
    },
    "papermill": {
     "duration": 0.045936,
     "end_time": "2022-02-08T19:15:30.640491",
     "exception": false,
     "start_time": "2022-02-08T19:15:30.594555",
     "status": "completed"
    },
    "tags": []
   },
   "outputs": [],
   "source": [
    "test_data.sample(10)"
   ]
  },
  {
   "cell_type": "code",
   "execution_count": null,
   "id": "a9a6da4d",
   "metadata": {
    "execution": {
     "iopub.execute_input": "2022-02-08T19:15:30.705058Z",
     "iopub.status.busy": "2022-02-08T19:15:30.704107Z",
     "iopub.status.idle": "2022-02-08T19:15:30.711398Z",
     "shell.execute_reply": "2022-02-08T19:15:30.711831Z",
     "shell.execute_reply.started": "2022-02-08T18:45:41.885567Z"
    },
    "papermill": {
     "duration": 0.041402,
     "end_time": "2022-02-08T19:15:30.712005",
     "exception": false,
     "start_time": "2022-02-08T19:15:30.670603",
     "status": "completed"
    },
    "tags": []
   },
   "outputs": [],
   "source": [
    "test_data = test_data.drop(['reviewer_score'], axis=1)"
   ]
  },
  {
   "cell_type": "code",
   "execution_count": null,
   "id": "82996041",
   "metadata": {
    "execution": {
     "iopub.execute_input": "2022-02-08T19:15:30.776119Z",
     "iopub.status.busy": "2022-02-08T19:15:30.775182Z",
     "iopub.status.idle": "2022-02-08T19:15:30.784841Z",
     "shell.execute_reply": "2022-02-08T19:15:30.785251Z",
     "shell.execute_reply.started": "2022-02-08T18:45:41.893309Z"
    },
    "papermill": {
     "duration": 0.043997,
     "end_time": "2022-02-08T19:15:30.785439",
     "exception": false,
     "start_time": "2022-02-08T19:15:30.741442",
     "status": "completed"
    },
    "tags": []
   },
   "outputs": [],
   "source": [
    "sample_submission"
   ]
  },
  {
   "cell_type": "code",
   "execution_count": null,
   "id": "17e3b4fd",
   "metadata": {
    "execution": {
     "iopub.execute_input": "2022-02-08T19:15:30.850529Z",
     "iopub.status.busy": "2022-02-08T19:15:30.849583Z",
     "iopub.status.idle": "2022-02-08T19:15:33.976874Z",
     "shell.execute_reply": "2022-02-08T19:15:33.976213Z",
     "shell.execute_reply.started": "2022-02-08T18:45:41.912914Z"
    },
    "papermill": {
     "duration": 3.16064,
     "end_time": "2022-02-08T19:15:33.977025",
     "exception": false,
     "start_time": "2022-02-08T19:15:30.816385",
     "status": "completed"
    },
    "tags": []
   },
   "outputs": [],
   "source": [
    "predict_submission = model.predict(test_data)"
   ]
  },
  {
   "cell_type": "code",
   "execution_count": null,
   "id": "f8143893",
   "metadata": {
    "execution": {
     "iopub.execute_input": "2022-02-08T19:15:34.049725Z",
     "iopub.status.busy": "2022-02-08T19:15:34.048890Z",
     "iopub.status.idle": "2022-02-08T19:15:34.052717Z",
     "shell.execute_reply": "2022-02-08T19:15:34.053456Z",
     "shell.execute_reply.started": "2022-02-08T18:45:44.231424Z"
    },
    "papermill": {
     "duration": 0.043612,
     "end_time": "2022-02-08T19:15:34.053708",
     "exception": false,
     "start_time": "2022-02-08T19:15:34.010096",
     "status": "completed"
    },
    "tags": []
   },
   "outputs": [],
   "source": [
    "predict_submission"
   ]
  },
  {
   "cell_type": "code",
   "execution_count": null,
   "id": "acc71a3c",
   "metadata": {
    "execution": {
     "iopub.execute_input": "2022-02-08T19:15:34.130523Z",
     "iopub.status.busy": "2022-02-08T19:15:34.129920Z",
     "iopub.status.idle": "2022-02-08T19:15:34.132622Z",
     "shell.execute_reply": "2022-02-08T19:15:34.133260Z",
     "shell.execute_reply.started": "2022-02-08T18:45:44.239621Z"
    },
    "papermill": {
     "duration": 0.044364,
     "end_time": "2022-02-08T19:15:34.133444",
     "exception": false,
     "start_time": "2022-02-08T19:15:34.089080",
     "status": "completed"
    },
    "tags": []
   },
   "outputs": [],
   "source": [
    "list(sample_submission)"
   ]
  },
  {
   "cell_type": "code",
   "execution_count": null,
   "id": "9c5daa79",
   "metadata": {
    "execution": {
     "iopub.execute_input": "2022-02-08T19:15:34.202732Z",
     "iopub.status.busy": "2022-02-08T19:15:34.202121Z",
     "iopub.status.idle": "2022-02-08T19:15:34.484062Z",
     "shell.execute_reply": "2022-02-08T19:15:34.484469Z",
     "shell.execute_reply.started": "2022-02-08T18:45:44.250765Z"
    },
    "papermill": {
     "duration": 0.318018,
     "end_time": "2022-02-08T19:15:34.484637",
     "exception": false,
     "start_time": "2022-02-08T19:15:34.166619",
     "status": "completed"
    },
    "tags": []
   },
   "outputs": [],
   "source": [
    "sample_submission['reviewer_score'] = predict_submission\n",
    "sample_submission.to_csv('submission.csv', index=False)\n",
    "sample_submission.head(10)"
   ]
  },
  {
   "cell_type": "code",
   "execution_count": null,
   "id": "a6a78a41",
   "metadata": {
    "papermill": {
     "duration": 0.03158,
     "end_time": "2022-02-08T19:15:34.547848",
     "exception": false,
     "start_time": "2022-02-08T19:15:34.516268",
     "status": "completed"
    },
    "tags": []
   },
   "outputs": [],
   "source": []
  },
  {
   "cell_type": "code",
   "execution_count": null,
   "id": "7c67c8ca",
   "metadata": {
    "papermill": {
     "duration": 0.03103,
     "end_time": "2022-02-08T19:15:34.610550",
     "exception": false,
     "start_time": "2022-02-08T19:15:34.579520",
     "status": "completed"
    },
    "tags": []
   },
   "outputs": [],
   "source": []
  },
  {
   "cell_type": "code",
   "execution_count": null,
   "id": "01ec2919",
   "metadata": {
    "papermill": {
     "duration": 0.032526,
     "end_time": "2022-02-08T19:15:34.674336",
     "exception": false,
     "start_time": "2022-02-08T19:15:34.641810",
     "status": "completed"
    },
    "tags": []
   },
   "outputs": [],
   "source": []
  }
 ],
 "metadata": {
  "interpreter": {
   "hash": "529b7f63ca761d478d1bd774f0b581ad3b5625a5e231408b9454a82606df15ca"
  },
  "kernelspec": {
   "display_name": "Python 3.9.11 ('sf')",
   "language": "python",
   "name": "python3"
  },
  "language_info": {
   "codemirror_mode": {
    "name": "ipython",
    "version": 3
   },
   "file_extension": ".py",
   "mimetype": "text/x-python",
   "name": "python",
   "nbconvert_exporter": "python",
   "pygments_lexer": "ipython3",
   "version": "3.9.11"
  },
  "papermill": {
   "default_parameters": {},
   "duration": 82.712304,
   "end_time": "2022-02-08T19:15:35.720354",
   "environment_variables": {},
   "exception": null,
   "input_path": "__notebook__.ipynb",
   "output_path": "__notebook__.ipynb",
   "parameters": {},
   "start_time": "2022-02-08T19:14:13.008050",
   "version": "2.3.3"
  }
 },
 "nbformat": 4,
 "nbformat_minor": 5
}
